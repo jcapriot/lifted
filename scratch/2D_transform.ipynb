{
 "cells": [
  {
   "cell_type": "code",
   "execution_count": 2,
   "id": "293eb193-f04b-4c2d-a193-bc328583a2c4",
   "metadata": {},
   "outputs": [],
   "source": [
    "import numba\n",
    "import numpy as np\n",
    "import matplotlib.pyplot as plt\n",
    "import functools\n",
    "\n",
    "import pywt"
   ]
  },
  {
   "cell_type": "code",
   "execution_count": 3,
   "id": "c062e2bc-a843-43af-8ac4-0edc9202e41a",
   "metadata": {},
   "outputs": [],
   "source": [
    "import math"
   ]
  },
  {
   "cell_type": "code",
   "execution_count": 43,
   "id": "d1235b73-be90-428d-8a41-cda6291eebb1",
   "metadata": {},
   "outputs": [],
   "source": [
    "@numba.njit()\n",
    "def next_index(n):\n",
    "    while n & 1:\n",
    "        n = n >> 1\n",
    "    return n >> 1\n",
    "\n",
    "@numba.njit()\n",
    "def unscramble(j, sz):\n",
    "    i = j\n",
    "    while i < j:\n",
    "        i = next_index(sz // 2 + i)\n",
    "    return i\n",
    "\n",
    "@numba.njit()\n",
    "def larger_half(n):\n",
    "    return n - n // 2\n",
    "\n",
    "@numba.njit()\n",
    "def is_even(n):\n",
    "    return bool((n & 1)^1)\n",
    "\n",
    "@numba.njit()\n",
    "def interleave(a):\n",
    "    n = len(a)\n",
    "    m = n // 2\n",
    "    l = a[:m]\n",
    "    r = a[m:]\n",
    "\n",
    "    for i in range(m):\n",
    "        j = next_index(i)\n",
    "        l[i], r[j] = r[j], l[i]\n",
    "\n",
    "    m2 = m // 2\n",
    "    for j in range(m2 - 1):\n",
    "        k = next_index(m2 + j)\n",
    "        while k < j:\n",
    "            k = next_index(m2 + k)\n",
    "        r[j], r[k] = r[k], r[j]\n",
    "\n",
    "    if n - m > 1:\n",
    "        b = 1 if m & 1 else 0\n",
    "        interleave(r[b:])\n",
    "\n",
    "    return a"
   ]
  },
  {
   "cell_type": "code",
   "execution_count": 44,
   "id": "01f89361-4d5b-4d59-bd1b-8277fc329890",
   "metadata": {},
   "outputs": [],
   "source": [
    "@numba.njit()\n",
    "def interleave_work(x):\n",
    "    n = len(x)\n",
    "    m = len(x) // 2\n",
    "    work = x[:m << 1].copy()\n",
    "\n",
    "    for k in range(m):\n",
    "        i = 2 * k\n",
    "        x[i] = work[m + k]\n",
    "        x[i + 1] = work[k]\n",
    "\n",
    "    return x"
   ]
  },
  {
   "cell_type": "code",
   "execution_count": 47,
   "id": "f5591e2b-edd6-4084-ab7d-0ff0a54d14cb",
   "metadata": {},
   "outputs": [
    {
     "data": {
      "text/plain": [
       "array([50000.,     0., 50001., ..., 49998., 99999., 49999.])"
      ]
     },
     "execution_count": 47,
     "metadata": {},
     "output_type": "execute_result"
    }
   ],
   "source": [
    "n = 100_000\n",
    "interleave_work(np.arange(n, dtype=np.float64))"
   ]
  },
  {
   "cell_type": "code",
   "execution_count": 35,
   "id": "4175e7bb-8511-4bcb-b795-dc4ba12053dc",
   "metadata": {},
   "outputs": [
    {
     "name": "stdout",
     "output_type": "stream",
     "text": [
      "1.35 ms ± 9.4 μs per loop (mean ± std. dev. of 7 runs, 1,000 loops each)\n"
     ]
    }
   ],
   "source": [
    "%%timeit\n",
    "interleave(x)"
   ]
  },
  {
   "cell_type": "code",
   "execution_count": 48,
   "id": "fcf9cae7-8a5d-4af8-b89e-cd1e0d239546",
   "metadata": {},
   "outputs": [
    {
     "name": "stdout",
     "output_type": "stream",
     "text": [
      "105 μs ± 2.46 μs per loop (mean ± std. dev. of 7 runs, 10,000 loops each)\n"
     ]
    }
   ],
   "source": [
    "%%timeit\n",
    "interleave_work(np.arange(n, dtype=np.float64))"
   ]
  },
  {
   "cell_type": "code",
   "execution_count": 199,
   "id": "1c2152b7-f2d0-46bc-b059-a3dbe7e2d741",
   "metadata": {},
   "outputs": [],
   "source": [
    "@numba.njit()\n",
    "def lift_apply(x, i, offset, vals):\n",
    "    v = vals[0] * x[i + offset]\n",
    "    if len(vals) > 1:\n",
    "        v += lift_apply(x, i, offset + 1, vals[1:])\n",
    "    return v\n",
    "\n",
    "@numba.njit()\n",
    "def lift_periodic_bc(x, i, offset, vals):\n",
    "    io = (i + offset) % len(x)\n",
    "    v = vals[0] * x[io]\n",
    "    if len(vals) > 1:\n",
    "        v += lift_periodic_bc(x, i, offset + 1, vals[1:])\n",
    "    return v\n",
    "\n",
    "def step_factory(step_type, offset, vals):\n",
    "    if step_type == \"d\":\n",
    "        @numba.njit()\n",
    "        def update_d(s, d):\n",
    "            nd = len(d)\n",
    "            max_offset = len(vals) - 1 + offset\n",
    "            n_front = max(-offset, 0)\n",
    "            n_back = max(max_offset, 0)\n",
    "        \n",
    "            for i in range(n_front):\n",
    "                d[i] += lift_periodic_bc(s, i, offset, vals)\n",
    "            for i in range(n_front, nd - n_back):\n",
    "                d[i] += lift_apply(s, i, offset, vals)\n",
    "            for i in range(nd - n_back, nd):\n",
    "                d[i] += lift_periodic_bc(s, i, offset, vals)\n",
    "        return update_d\n",
    "    elif step_type == \"s\":\n",
    "        @numba.njit()\n",
    "        def update_s(s, d):\n",
    "            nd = len(d)\n",
    "            ns = len(s)\n",
    "            max_offset = len(vals) - 1 + offset\n",
    "            n_front = max(-offset, 0)\n",
    "            n_back = max(max_offset, 0)\n",
    "        \n",
    "            for i in range(n_front):\n",
    "                s[i] += lift_periodic_bc(d, i, offset, vals)\n",
    "            for i in range(n_front, nd - n_back):\n",
    "                s[i] += lift_apply(d, i, offset, vals)\n",
    "            for i in range(nd - n_back, ns):\n",
    "                s[i] += lift_periodic_bc(d, i, offset, vals)\n",
    "        return update_s\n",
    "    else :\n",
    "        @numba.njit()\n",
    "        def scale(s, d):\n",
    "            nd = len(d)\n",
    "            ns = len(s)\n",
    "            for i in range(nd):\n",
    "                d[i] /= offset\n",
    "            for i in range(ns):\n",
    "                s[i] *= offset\n",
    "        return scale\n",
    "\n",
    "def forward(x, steps):\n",
    "\n",
    "    s = x[::2].copy()\n",
    "    d = x[1::2].copy()\n",
    "\n",
    "    for step in steps:\n",
    "        step(s, d)\n",
    "\n",
    "    return np.concat([s, d])"
   ]
  },
  {
   "cell_type": "code",
   "execution_count": 200,
   "id": "81edc9aa-23f6-4d18-a875-bc03001e15fb",
   "metadata": {},
   "outputs": [
    {
     "data": {
      "text/plain": [
       "pywt._extensions._pywt.Wavelet(name='bior3.1', filter_bank=([-0.3535533905932738, 1.0606601717798212, 1.0606601717798212, -0.3535533905932738], [-0.1767766952966369, 0.5303300858899106, -0.5303300858899106, 0.1767766952966369], [0.1767766952966369, 0.5303300858899106, 0.5303300858899106, 0.1767766952966369], [-0.3535533905932738, -1.0606601717798212, 1.0606601717798212, 0.3535533905932738]))"
      ]
     },
     "execution_count": 200,
     "metadata": {},
     "output_type": "execute_result"
    }
   ],
   "source": [
    "pywt.Wavelet('bior3.1')"
   ]
  },
  {
   "cell_type": "code",
   "execution_count": 201,
   "id": "56655875-c083-4a32-afeb-7bacfc93d35a",
   "metadata": {},
   "outputs": [],
   "source": [
    "@numba.njit()\n",
    "def vec_lift_apply(x, i, j, offset, vals):\n",
    "    v = vals[0] * x[i + offset, j]\n",
    "    if len(vals) > 1:\n",
    "        v += vec_lift_apply(x, i, j, offset + 1, vals[1:])\n",
    "    return v\n",
    "\n",
    "@numba.njit()\n",
    "def vec_lift_periodic_bc(x, i, j, offset, vals):\n",
    "    io = (i + offset) % len(x)\n",
    "    v = vals[0] * x[io, j]\n",
    "    if len(vals) > 1:\n",
    "        v += vec_lift_periodic_bc(x, i, j, offset + 1, vals[1:])\n",
    "    return v"
   ]
  },
  {
   "cell_type": "code",
   "execution_count": 202,
   "id": "5855142a-a3a9-4070-a36f-47f5057dbaa5",
   "metadata": {},
   "outputs": [],
   "source": [
    "def vec_step_factory(step_type, offset, vals):\n",
    "    if vals is not None:\n",
    "        max_offset = len(vals) - 1 + offset\n",
    "        n_front = max(-offset, 0)\n",
    "        n_back = max(max_offset, 0)\n",
    "    \n",
    "    if step_type == \"d\":\n",
    "        @numba.njit()\n",
    "        def update_d(s, d):\n",
    "            nd = d.shape[0]\n",
    "            m = d.shape[1]\n",
    "\n",
    "            for i in range(n_front):\n",
    "                for j in range(m):\n",
    "                    d[i, j] += vec_lift_periodic_bc(s, i, j, offset, vals)\n",
    "            for i in range(n_front, nd - n_back):\n",
    "                for j in range(m):\n",
    "                    d[i, j] += vec_lift_apply(s, i, j, offset, vals)\n",
    "            for i in range(nd - n_back, nd):\n",
    "                for j in range(m):\n",
    "                    d[i, j] += vec_lift_periodic_bc(s, i, j, offset, vals)\n",
    "        return update_d\n",
    "\n",
    "    elif step_type == \"s\":\n",
    "        @numba.njit()\n",
    "        def update_s(s, d):\n",
    "            nd = len(d)\n",
    "            ns = len(s)\n",
    "            m = d.shape[1]\n",
    "        \n",
    "            for i in range(n_front):\n",
    "                for j in range(m):\n",
    "                    s[i, j] += vec_lift_periodic_bc(d, i, j, offset, vals)\n",
    "            for i in range(n_front, nd - n_back):\n",
    "                for j in range(m):\n",
    "                    s[i, j] += vec_lift_apply(d, i, j, offset, vals)\n",
    "            for i in range(nd - n_back, ns):\n",
    "                for j in range(m):\n",
    "                    s[i, j] += vec_lift_periodic_bc(d, i, j, offset, vals)\n",
    "        return update_s\n",
    "    else :\n",
    "        @numba.njit()\n",
    "        def scale(s, d):\n",
    "            nd = len(d)\n",
    "            ns = len(s)\n",
    "            m = d.shape[1]\n",
    "            for i in range(nd):\n",
    "                for j in range(m):\n",
    "                    d[i, j] /= offset\n",
    "            for i in range(ns):\n",
    "                for j in range(m):\n",
    "                    s[i, j] *= offset\n",
    "        return scale"
   ]
  },
  {
   "cell_type": "code",
   "execution_count": 203,
   "id": "2bca9054-4ead-4eef-9464-634aa317e075",
   "metadata": {},
   "outputs": [],
   "source": [
    "vals = np.array([1.0, 1.2, 1.3])\n",
    "\n",
    "BiorSpline3_1 = [\n",
    "    (\"s\",  -1, np.r_[-1/3]),\n",
    "    (\"d\", 0, np.r_[-9/8, -3/8]),\n",
    "    (\"s\",  0, np.r_[4/9]),\n",
    "    (\"scale\", 3 * np.sqrt(2) / 2, None)\n",
    "]\n",
    "\n",
    "BiorSpline6_2 = [\n",
    "    (\"d\",  0, np.r_[-1/6, 1/6]),\n",
    "    (\"s\", -1, np.r_[-9/16, -9/16]),\n",
    "    (\"d\", 0, np.r_[-4/3, -4/3]),\n",
    "    (\"s\", -1, np.r_[5/32, 5/32]),\n",
    "    (\"scale\", 4 * np.sqrt(2), None)\n",
    "]\n",
    "\n",
    "\n",
    "forward_1d_bior_3_1 = functools.partial(forward, steps=[step_factory(*param) for param in BiorSpline3_1])\n",
    "\n",
    "forward_2d_bior_3_1 = functools.partial(forward, steps=[vec_step_factory(*param) for param in BiorSpline3_1])"
   ]
  },
  {
   "cell_type": "code",
   "execution_count": 204,
   "id": "ac66cba3-197b-4625-ba01-2216020e2f5b",
   "metadata": {},
   "outputs": [],
   "source": [
    "n = 512\n",
    "x = np.linspace(-10, 10, n)\n",
    "y = np.linspace(-10, 10, n)\n",
    "\n",
    "c = 1/np.sqrt((x**2 + y ** 2 + 0.1))\n",
    "c2d = 1/np.sqrt(x**2 + y[:, None]**2 + 0.1)"
   ]
  },
  {
   "cell_type": "code",
   "execution_count": 462,
   "id": "2f0dc09c-9df3-4e8b-877a-90b83304740c",
   "metadata": {},
   "outputs": [],
   "source": [
    "def max_level(n, width):\n",
    "    lvl = 0\n",
    "    if width <= 1:\n",
    "        return 0\n",
    "    print(np.log2(n), np.log2(width - 1))\n",
    "    while n >= 2 * (width - 1):\n",
    "        print(lvl, n, width)\n",
    "        lvl += 1\n",
    "        n //= 2\n",
    "    return lvl"
   ]
  },
  {
   "cell_type": "code",
   "execution_count": 463,
   "id": "574f05ad-645d-414f-8497-b33dc248fcc3",
   "metadata": {},
   "outputs": [
    {
     "data": {
      "text/plain": [
       "np.float64(10.0)"
      ]
     },
     "execution_count": 463,
     "metadata": {},
     "output_type": "execute_result"
    }
   ],
   "source": [
    "np.log2(1024 // 1)"
   ]
  },
  {
   "cell_type": "code",
   "execution_count": 464,
   "id": "b4d27783-d0de-4205-81cf-a26207b6edcb",
   "metadata": {},
   "outputs": [
    {
     "data": {
      "text/plain": [
       "1"
      ]
     },
     "execution_count": 464,
     "metadata": {},
     "output_type": "execute_result"
    }
   ],
   "source": [
    "pywt.dwt_max_level(2, 2)"
   ]
  },
  {
   "cell_type": "code",
   "execution_count": 465,
   "id": "6394e7e3-4b40-4764-a7fc-9454442baa31",
   "metadata": {},
   "outputs": [
    {
     "data": {
      "text/plain": [
       "np.float64(0.41503749927884376)"
      ]
     },
     "execution_count": 465,
     "metadata": {},
     "output_type": "execute_result"
    }
   ],
   "source": [
    "np.log2(4 / (4 - 1))"
   ]
  },
  {
   "cell_type": "code",
   "execution_count": 478,
   "id": "63deb36d-09a6-4c38-a838-4745b4bbd9ab",
   "metadata": {},
   "outputs": [
    {
     "name": "stdout",
     "output_type": "stream",
     "text": [
      "9.717676423066395 3.4594316186372973\n",
      "0 842 12\n",
      "1 421 12\n",
      "2 210 12\n",
      "3 105 12\n",
      "4 52 12\n",
      "5 26 12\n",
      "\n",
      "6 6\n",
      "\n",
      "9.719388820942083 3.4594316186372973\n",
      "0 843 12\n",
      "1 421 12\n",
      "2 210 12\n",
      "3 105 12\n",
      "4 52 12\n",
      "5 26 12\n",
      "\n",
      "6 6\n"
     ]
    }
   ],
   "source": [
    "n1 = 842\n",
    "n2 = n1 + 1\n",
    "\n",
    "wvlt = pywt.Wavelet('db6')\n",
    "width = len(wvlt)\n",
    "my_lvl = max_level(n1, width)\n",
    "print()\n",
    "print(pywt.dwt_max_level(n1, width), my_lvl)\n",
    "\n",
    "print()\n",
    "my_lvl = max_level(n2, width)\n",
    "print()\n",
    "print(pywt.dwt_max_level(n1, width), my_lvl)"
   ]
  },
  {
   "cell_type": "code",
   "execution_count": 470,
   "id": "c76ba341-1419-4cb0-a75d-d5125b41315d",
   "metadata": {},
   "outputs": [
    {
     "name": "stdout",
     "output_type": "stream",
     "text": [
      "9.319672120946995 2.321928094887362\n",
      "0 639 6\n",
      "1 319 6\n",
      "2 159 6\n",
      "3 79 6\n",
      "4 39 6\n",
      "5 19 6\n",
      "\n",
      "6 6\n"
     ]
    }
   ],
   "source": [
    "n = 639\n",
    "\n",
    "wvlt = pywt.Wavelet('db3')\n",
    "width = len(wvlt)\n",
    "my_lvl = max_level(n, width)\n",
    "print()\n",
    "print(pywt.dwt_max_level(n, width), my_lvl)"
   ]
  },
  {
   "cell_type": "code",
   "execution_count": 467,
   "id": "b3ec902c-3963-4a6c-ac45-7e769ca9387c",
   "metadata": {},
   "outputs": [
    {
     "name": "stdout",
     "output_type": "stream",
     "text": [
      "9.321928094887362 2.321928094887362\n",
      "0 640 6\n",
      "1 320 6\n",
      "2 160 6\n",
      "3 80 6\n",
      "4 40 6\n",
      "5 20 6\n",
      "6 10 6\n",
      "\n",
      "7 7\n"
     ]
    }
   ],
   "source": [
    "n = 640\n",
    "\n",
    "wvlt = pywt.Wavelet('db3')\n",
    "width = len(wvlt)\n",
    "my_lvl = max_level(n, width)\n",
    "print()\n",
    "print(pywt.dwt_max_level(n, width), my_lvl)"
   ]
  },
  {
   "cell_type": "code",
   "execution_count": 288,
   "id": "30d93994-9a47-4a5c-92a9-4e355dbfcc56",
   "metadata": {},
   "outputs": [
    {
     "data": {
      "text/plain": [
       "(array([ 0.        ,  0.        ,  0.        ,  0.        , -0.35355339,\n",
       "         1.06066017,  0.        ,  0.        ,  0.        ,  0.        ,\n",
       "         0.        ,  0.        ,  0.        ,  0.        ,  0.        ,\n",
       "         0.        ,  0.        ,  0.        ,  0.        ,  0.        ,\n",
       "        -0.1767767 , -0.53033009,  0.        ,  0.        ,  0.        ,\n",
       "         0.        ,  0.        ,  0.        ,  0.        ,  0.        ,\n",
       "         0.        ,  0.        ]),\n",
       " array([ 0.        ,  0.        ,  0.        ,  0.        ,  0.        ,\n",
       "         1.06066017, -0.35355339,  0.        ,  0.        ,  0.        ,\n",
       "         0.        ,  0.        ,  0.        ,  0.        ,  0.        ,\n",
       "         0.        ,  0.        ,  0.        ,  0.        ,  0.        ,\n",
       "         0.        ,  0.53033009,  0.1767767 ,  0.        ,  0.        ,\n",
       "         0.        ,  0.        ,  0.        ,  0.        ,  0.        ,\n",
       "         0.        ,  0.        ]))"
      ]
     },
     "execution_count": 288,
     "metadata": {},
     "output_type": "execute_result"
    }
   ],
   "source": [
    "e = np.zeros(32)\n",
    "e[10] = 1\n",
    "\n",
    "v1 = forward_1d_bior_3_1(e)\n",
    "\n",
    "e = np.zeros(32)\n",
    "e[11] = 1\n",
    "\n",
    "v2 = forward_1d_bior_3_1(e)\n",
    "\n",
    "v1, v2"
   ]
  },
  {
   "cell_type": "code",
   "execution_count": 205,
   "id": "af8e6785-3fbd-46fe-b055-d7c2d2c481fa",
   "metadata": {},
   "outputs": [],
   "source": [
    "sc = forward_1d_bior_3_1(c)"
   ]
  },
  {
   "cell_type": "code",
   "execution_count": 209,
   "id": "a34c537e-0abc-4b20-87b4-7284b347ac5c",
   "metadata": {
    "scrolled": true
   },
   "outputs": [],
   "source": [
    "sc2d = forward_2d_bior_3_1(c2d)\n",
    "vs = []\n",
    "for row in sc2d:\n",
    "    vs.append(forward_1d_bior_3_1(row))\n",
    "sc2d = np.stack(vs)"
   ]
  },
  {
   "cell_type": "code",
   "execution_count": 210,
   "id": "cf2be1da-116f-4f2e-b2a6-5528f0c692d6",
   "metadata": {},
   "outputs": [
    {
     "data": {
      "text/plain": [
       "[<matplotlib.lines.Line2D at 0x2e31d9f8f80>]"
      ]
     },
     "execution_count": 210,
     "metadata": {},
     "output_type": "execute_result"
    },
    {
     "data": {
      "image/png": "[encoded data removed]",
      "text/plain": [
       "<Figure size 640x480 with 1 Axes>"
      ]
     },
     "metadata": {},
     "output_type": "display_data"
    }
   ],
   "source": [
    "plt.plot(c)\n",
    "plt.plot(sc)"
   ]
  },
  {
   "cell_type": "code",
   "execution_count": 216,
   "id": "80379f5b-c730-45d7-a707-cd488b72560b",
   "metadata": {},
   "outputs": [
    {
     "data": {
      "text/plain": [
       "<matplotlib.colorbar.Colorbar at 0x2e31d857830>"
      ]
     },
     "execution_count": 216,
     "metadata": {},
     "output_type": "execute_result"
    },
    {
     "data": {
      "image/png": "[encoded data removed]",
      "text/plain": [
       "<Figure size 640x480 with 2 Axes>"
      ]
     },
     "metadata": {},
     "output_type": "display_data"
    }
   ],
   "source": [
    "plt.imshow(sc2d[:n//2,:n//2])\n",
    "plt.colorbar()"
   ]
  },
  {
   "cell_type": "code",
   "execution_count": 217,
   "id": "faa29042-1cb8-4693-943d-94068f0764ef",
   "metadata": {},
   "outputs": [
    {
     "data": {
      "text/plain": [
       "<matplotlib.colorbar.Colorbar at 0x2e31d8fee70>"
      ]
     },
     "execution_count": 217,
     "metadata": {},
     "output_type": "execute_result"
    },
    {
     "data": {
      "image/png": "[encoded data removed]",
      "text/plain": [
       "<Figure size 640x480 with 2 Axes>"
      ]
     },
     "metadata": {},
     "output_type": "display_data"
    }
   ],
   "source": [
    "plt.imshow(sc2d[n//2:,:n//2])\n",
    "plt.colorbar()"
   ]
  },
  {
   "cell_type": "code",
   "execution_count": 219,
   "id": "8dbaa85f-a4e5-48c0-a291-5771389cc70e",
   "metadata": {},
   "outputs": [
    {
     "data": {
      "text/plain": [
       "<matplotlib.colorbar.Colorbar at 0x2e31d9b6db0>"
      ]
     },
     "execution_count": 219,
     "metadata": {},
     "output_type": "execute_result"
    },
    {
     "data": {
      "image/png": "[encoded data removed]",
      "text/plain": [
       "<Figure size 640x480 with 2 Axes>"
      ]
     },
     "metadata": {},
     "output_type": "display_data"
    }
   ],
   "source": [
    "plt.imshow(sc2d[:n//2,n//2:])\n",
    "plt.colorbar()"
   ]
  },
  {
   "cell_type": "code",
   "execution_count": 220,
   "id": "c3add12f-f76b-489c-9d12-17c8a5a3987b",
   "metadata": {},
   "outputs": [
    {
     "data": {
      "text/plain": [
       "<matplotlib.colorbar.Colorbar at 0x2e31d7417f0>"
      ]
     },
     "execution_count": 220,
     "metadata": {},
     "output_type": "execute_result"
    },
    {
     "data": {
      "image/png": "[encoded data removed]",
      "text/plain": [
       "<Figure size 640x480 with 2 Axes>"
      ]
     },
     "metadata": {},
     "output_type": "display_data"
    }
   ],
   "source": [
    "plt.imshow(sc2d[n//2:,n//2:])\n",
    "plt.colorbar()"
   ]
  },
  {
   "cell_type": "code",
   "execution_count": 144,
   "id": "87d9a362-32a0-4c17-bffb-66536d5145e3",
   "metadata": {},
   "outputs": [
    {
     "data": {
      "text/plain": [
       "[<matplotlib.lines.Line2D at 0x2e317357620>]"
      ]
     },
     "execution_count": 144,
     "metadata": {},
     "output_type": "execute_result"
    },
    {
     "data": {
      "image/png": "[encoded data removed]",
      "text/plain": [
       "<Figure size 640x480 with 1 Axes>"
      ]
     },
     "metadata": {},
     "output_type": "display_data"
    }
   ],
   "source": [
    "plt.plot(sc)\n",
    "plt.plot(dc)"
   ]
  }
 ],
 "metadata": {
  "kernelspec": {
   "display_name": "Python 3 (ipykernel)",
   "language": "python",
   "name": "python3"
  },
  "language_info": {
   "codemirror_mode": {
    "name": "ipython",
    "version": 3
   },
   "file_extension": ".py",
   "mimetype": "text/x-python",
   "name": "python",
   "nbconvert_exporter": "python",
   "pygments_lexer": "ipython3",
   "version": "3.12.6"
  }
 },
 "nbformat": 4,
 "nbformat_minor": 5
}
