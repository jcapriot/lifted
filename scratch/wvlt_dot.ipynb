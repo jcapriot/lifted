{
 "cells": [
  {
   "cell_type": "code",
   "execution_count": 1,
   "id": "4bf99fbf-ff6a-4100-a297-ca05f03bea9a",
   "metadata": {},
   "outputs": [],
   "source": [
    "import numba\n",
    "import numpy as np\n",
    "import matplotlib.pyplot as plt\n",
    "\n",
    "from typing import List\n",
    "from numba.experimental import jitclass\n",
    "\n",
    "from numba import int64, float64    # import the types"
   ]
  },
  {
   "cell_type": "code",
   "execution_count": 53,
   "id": "9c24081f-b487-46ad-8b22-9c1941dea550",
   "metadata": {},
   "outputs": [],
   "source": [
    "@numba.jit(nopython=True)\n",
    "def lift(x, i, offset, vals):\n",
    "    v = x[i + offset] * vals[0]\n",
    "    if len(vals) > 1:\n",
    "        return v + lift(x, i, offset + 1, vals[1:])\n",
    "    else:\n",
    "        return v\n",
    "\n",
    "@numba.jit(nopython=True)\n",
    "def lift_wrap(x, i, n, offset, vals):\n",
    "    io = i + offset\n",
    "    if (io < 0):\n",
    "        io = n + io\n",
    "    elif(io >= n):\n",
    "        io = io - n\n",
    "    v = x[io] * vals[0]\n",
    "    if len(vals) > 1:\n",
    "        return v + lift_wrap(x, i, n, offset + 1, vals[1:])\n",
    "    else:\n",
    "        return v\n",
    "\n",
    "@numba.jit(nopython=True)\n",
    "def lift_zero(x, i, n, offset, vals):\n",
    "    io = i + offset\n",
    "    if io >= n:\n",
    "        return x.dtype.type(0.0)\n",
    "    elif io < 0:\n",
    "        return lift_zero(x, i, n, offset + 1, vals[1:])\n",
    "    \n",
    "    v = x[io] * vals[0]\n",
    "    if len(vals) > 1:\n",
    "        return v + lift_zero(x, i, n, offset + 1, vals[1:])\n",
    "    else:\n",
    "        return v\n",
    "\n",
    "@numba.jit(nopython=True)\n",
    "def lift_const(x, i, n, offset, vals):\n",
    "    io = i + offset\n",
    "    if io > n - 1:\n",
    "        io = n-1\n",
    "    elif io < 0:\n",
    "        io = 0\n",
    "    \n",
    "    v = x[io] * vals[0]\n",
    "    if len(vals) > 1:\n",
    "        return v + lift_const(x, i, n, offset + 1, vals[1:])\n",
    "    else:\n",
    "        return v"
   ]
  },
  {
   "cell_type": "code",
   "execution_count": 54,
   "id": "4378de79-28ff-4e1a-9c2e-bd1e4bd8c2b3",
   "metadata": {},
   "outputs": [],
   "source": [
    "@numba.jit(nopython=True)\n",
    "def lift_symm(x, i, n, offset, vals):\n",
    "    io = i + offset\n",
    "    if io >= n:\n",
    "        io = n - 1 - (io - n)\n",
    "    elif io < 0:\n",
    "        io = -(io + 1)\n",
    "\n",
    "    v = x[io] * vals[0]\n",
    "    if len(vals) > 1:\n",
    "        return v + lift_symm(x, i, n, offset + 1, vals[1:])\n",
    "    else:\n",
    "        return v\n",
    "\n",
    "@numba.jit(nopython=True)\n",
    "def lift_refl(x, i, n, offset, vals):\n",
    "    io = i + offset\n",
    "    if io >= n:\n",
    "        io = n - 2 - (io - n)\n",
    "    elif io < 0:\n",
    "        io = -io\n",
    "\n",
    "    v = x[io] * vals[0]\n",
    "    if len(vals) > 1:\n",
    "        return v + lift_refl(x, i, n, offset + 1, vals[1:])\n",
    "    else:\n",
    "        return v"
   ]
  },
  {
   "cell_type": "code",
   "execution_count": null,
   "id": "292ba429-fb90-4fdb-9049-ac441cca9ce2",
   "metadata": {},
   "outputs": [],
   "source": [
    "\n",
    "@jitclass\n",
    "class update_s:\n",
    "    offset: int\n",
    "    vals: float64[:]\n",
    "\n",
    "    n_front: int\n",
    "    n_back: int\n",
    "\n",
    "    offset_r: int\n",
    "    vals_r: float64[:]\n",
    "\n",
    "    n_front_r: int\n",
    "    n_back_r: int\n",
    "\n",
    "    def __init__(self, offset, vals):\n",
    "        self.vals = np.asarray(vals, dtype=np.float64).copy()\n",
    "        self.offset = offset\n",
    "        self.n_front = 0 if offset > 0 else -offset\n",
    "\n",
    "        n_vals = len(vals)\n",
    "        max_off = n_vals - 1 + offset\n",
    "        self.n_back = 0 if max_off < 0 else max_off\n",
    "\n",
    "        self.vals_r = np.asarray(vals[::-1], dtype=np.float64).copy()\n",
    "        self.offset_r = -max_off\n",
    "        self.n_front_r = 0 if self.offset_r > 0 else -self.offset_r\n",
    "        \n",
    "        max_off_r = n_vals - 1 + self.offset_r\n",
    "        self.n_back_r = 0 if max_off_r < 0 else max_off_r\n",
    "\n",
    "    def forward(self, s, d, bc_wrap) -> None:\n",
    "        ns = len(s)\n",
    "        nd = len(d)\n",
    "        vals = self.vals.astype(s.dtype)\n",
    "\n",
    "        for i in range(self.n_front):\n",
    "            s[i] += bc_wrap(d, i, nd, self.offset, vals)\n",
    "    \n",
    "        for i in range(self.n_front, nd - self.n_back):\n",
    "            s[i] += lift(d, i, self.offset, vals)\n",
    "    \n",
    "        for i in range(nd - self.n_back, ns):\n",
    "            s[i] += bc_wrap(d, i, nd, self.offset, vals)\n",
    "\n",
    "    def forward_adj(self, s, d, bc_wrap) -> None:\n",
    "        ns = len(s)\n",
    "        nd = len(d)\n",
    "        vals = self.vals_r.astype(s.dtype)\n",
    "        \n",
    "        for i in range(self.n_front_r):\n",
    "           d[i] += bc_wrap(s, i, ns, nd, self.offset_r, vals)\n",
    "    \n",
    "        for i in range(self.n_front_r, nd - self.n_back):\n",
    "            d[i] += lift(s, i, self.offset_r, vals)\n",
    "    \n",
    "        for i in range(nd - self.n_back, nd):\n",
    "           d[i] += bc_wrap(s, i, ns, nd, self.offset, vals)\n",
    "\n",
    "    def inverse(self, s, d, bc_wrap) -> None:\n",
    "        ns = len(s)\n",
    "        nd = len(d)\n",
    "        vals = self.vals.astype(s.dtype)\n",
    "\n",
    "        for i in range(self.n_front):\n",
    "            s[i] -= bc_wrap(d, i, nd, self.offset, vals)\n",
    "    \n",
    "        for i in range(self.n_front, nd - self.n_back):\n",
    "            s[i] -= lift(d, i, self.offset, vals)\n",
    "    \n",
    "        for i in range(nd - self.n_back, ns):\n",
    "            s[i] -= bc_wrap(d, i, nd, self.offset, vals)\n",
    "\n",
    "    def inverse_adj(self, s, d, bc_wrap) -> None:\n",
    "        ns = len(s)\n",
    "        nd = len(d)\n",
    "        vals = self.vals_r.astype(s.dtype)\n",
    "        \n",
    "        for i in range(self.n_front_r):\n",
    "            d[i] -= bc_wrap(s, i, ns, nd, self.offset_r, vals)\n",
    "    \n",
    "        for i in range(self.n_front_r, nd - self.n_back):\n",
    "            d[i] -= lift(s, i, self.offset_r, vals)\n",
    "    \n",
    "        for i in range(nd - self.n_back, nd):\n",
    "            d[i] -= bc_wrap(s, i, ns, nd, self.offset_r, vals)\n",
    "\n",
    "@jitclass\n",
    "class scale:\n",
    "    sc: float\n",
    "\n",
    "    def __init__(self, sc: float):\n",
    "        self.sc = sc\n",
    "\n",
    "    def forward(self, s, d, bc_wrap) -> None:\n",
    "        sc = s.dtype.type(self.sc)\n",
    "        s *= sc\n",
    "        d /= sc\n",
    "\n",
    "    def inverse(self, s, d, bc_wrap) -> None:\n",
    "        sc = s.dtype.type(self.sc)\n",
    "        s /= sc\n",
    "        d *= sc\n",
    "\n",
    "    forward_adj = forward\n",
    "    inverse_adj = inverse"
   ]
  },
  {
   "cell_type": "code",
   "execution_count": 137,
   "id": "2924b62b-4fd7-45f7-bc60-955dde72d179",
   "metadata": {},
   "outputs": [],
   "source": [
    "# class db7:\n",
    "#     s1_p0 = 5.09349848430361493158448369309319682065288729718818488170086\n",
    "#     s2_m0 = -0.189042092071992120719115069286184373462757526526706607687359\n",
    "#     s2_m1 =  0.0573987259809472316318163158166229520747344869480313379225195\n",
    "#     s3_p1 = -12.2854449967343086359903552773950797906521905606178682213636\n",
    "#     s3_p2 =   5.95920876247802982415703053009457554606483451817620285866937\n",
    "#     s4_m2 = -0.0604278631317421373037302780741631438456816254617632977400450\n",
    "#     s4_m3 =  0.0291354832120604111715672746297275711217338322811099054777142\n",
    "#     s5_p3 = -3.97071066749950430300434793946545058865144871092579097855408\n",
    "#     s5_p4 = 1.56044025996325478842482192099426071408509934413107380064471\n",
    "#     s6_m4 = -0.0126913773899277263576544929765396597865052704453285425832652\n",
    "#     s6_m5 = 0.00330657330114293172083753191386779325367868962178489518206046\n",
    "#     s7_p5 = -0.414198450444716993956500507305024397477047469411911796987340\n",
    "#     s7_p6 = 0.0508158836433382836486473921674908683852045493076552967984957\n",
    "#     s8_m6 = -0.000406214488767545513490343915060150692174820527241063790923\n",
    "\n",
    "#     sc = 0.299010707585297416977548850152193565671577389737970684943879\n",
    "\n",
    "#     steps = (\n",
    "#         update_s( 0, [s1_p0]),\n",
    "#         update_d(-1, [s2_m1, s2_m0]),\n",
    "#         update_s( 1, [s3_p1, s3_p2]),\n",
    "#         update_d(-3, [s4_m3, s4_m2]),\n",
    "#         update_s( 3, [s5_p3, s5_p4]),\n",
    "#         update_d(-5, [s6_m5, s6_m4]),\n",
    "#         update_s( 5, [s7_p5, s7_p6]),\n",
    "#         update_d(-6, [s8_m6]),\n",
    "#         scale(sc)\n",
    "#     )\n",
    "\n",
    "# class db7_r:\n",
    "#     s1_m0 = -5.09349848430361493158448369309319682065288729718818488170086\n",
    "#     s2_p0 = 0.189042092071992120719115069286184373462757526526706607687359\n",
    "#     s2_p1 =  -0.0573987259809472316318163158166229520747344869480313379225195\n",
    "#     s3_m1 = 12.2854449967343086359903552773950797906521905606178682213636\n",
    "#     s3_m2 =  -5.95920876247802982415703053009457554606483451817620285866937\n",
    "#     s4_p2 = 0.0604278631317421373037302780741631438456816254617632977400450\n",
    "#     s4_p3 =  -0.0291354832120604111715672746297275711217338322811099054777142\n",
    "#     s5_m3 = 3.97071066749950430300434793946545058865144871092579097855408\n",
    "#     s5_m4 = -1.56044025996325478842482192099426071408509934413107380064471\n",
    "#     s6_p4 = 0.0126913773899277263576544929765396597865052704453285425832652\n",
    "#     s6_p5 = -0.00330657330114293172083753191386779325367868962178489518206046\n",
    "#     s7_m5 = 0.414198450444716993956500507305024397477047469411911796987340\n",
    "#     s7_m6 = -0.0508158836433382836486473921674908683852045493076552967984957\n",
    "#     s8_p6 = 0.000406214488767545513490343915060150692174820527241063790923\n",
    "\n",
    "#     sc = 1/0.299010707585297416977548850152193565671577389737970684943879\n",
    "\n",
    "#     steps = (\n",
    "#         update_d( 0, [s1_m0]),\n",
    "#         update_s( 0, [s2_p0, s2_p1]),\n",
    "#         update_d(-2, [s3_m2, s3_m1]),\n",
    "#         update_s( 2, [s4_p2, s4_p3]),\n",
    "#         update_d(-4, [s5_m4, s5_m3]),\n",
    "#         update_s( 4, [s6_p4, s6_p5]),\n",
    "#         update_d(-6, [s7_m6, s7_m5]),\n",
    "#         update_s( 6, [s8_p6]),\n",
    "#         scale(sc)\n",
    "#     )\n",
    "\n",
    "# class BiorSpline6_2:\n",
    "#     s1 = -0.166666666666666666666666666666666666666666666666666666666667\n",
    "#     s2 = -0.5625\n",
    "#     s3 = -1.33333333333333333333333333333333333333333333333333333333333\n",
    "#     s4 = 0.15625\n",
    "#     sc = 5.65685424949238019520675489683879231427868750150779229270672\n",
    "\n",
    "#     steps = (\n",
    "#         update_d(-2, [-2, -4, -6, -8, -10, -12, -14]),\n",
    "#         # update_s(-1, [s2, s2]),\n",
    "#         # update_d(0, [s3, s3]),\n",
    "#         # update_s(-1, [s4, s4]),\n",
    "#         # scale(sc),\n",
    "#     )\n",
    "\n",
    "# class ReverseBiorSpline6_2:\n",
    "#     s1 = 0.166666666666666666666666666666666666666666666666666666666667\n",
    "#     s2 = 0.5625\n",
    "#     s3 = 1.33333333333333333333333333333333333333333333333333333333333\n",
    "#     s4 = -0.15625\n",
    "#     sc = 1/5.65685424949238019520675489683879231427868750150779229270672\n",
    "\n",
    "#     steps = (\n",
    "#         update_s(-2, [s1, s1, s1, s1, s1]),\n",
    "#         # update_d(0, [s2, s2]),\n",
    "#         # update_s(-1, [s3, s3]),\n",
    "#         # update_d(0, [s4, s4]),\n",
    "#         # scale(sc),\n",
    "#     )\n",
    "    "
   ]
  },
  {
   "cell_type": "code",
   "execution_count": 145,
   "id": "a82c74f6-8de6-47a6-9df1-ed6482e26fee",
   "metadata": {
    "scrolled": true
   },
   "outputs": [],
   "source": [
    "@jitclass\n",
    "class update_d:\n",
    "    offset: int\n",
    "    vals: float64[:]\n",
    "\n",
    "    n_front: int\n",
    "    n_back: int\n",
    "\n",
    "    offset_r: int\n",
    "    vals_r: float64[:]\n",
    "\n",
    "    n_front_r: int\n",
    "    n_back_r: int\n",
    "    \n",
    "    def __init__(self, offset, vals):\n",
    "        self.vals = np.asarray(vals, dtype=np.float64).copy()\n",
    "        self.offset = offset\n",
    "        self.n_front = 0 if offset > 0 else -offset\n",
    "\n",
    "        n_vals = len(vals)\n",
    "        max_off = n_vals - 1 + offset\n",
    "        self.n_back = 0 if max_off < 0 else max_off\n",
    "\n",
    "        self.vals_r = np.asarray(vals[::-1], dtype=np.float64).copy()\n",
    "        self.offset_r = -max_off\n",
    "        self.n_front_r = 0 if self.offset_r > 0 else -self.offset_r\n",
    "        \n",
    "        max_off_r = n_vals - 1 + self.offset_r\n",
    "        self.n_back_r = 0 if max_off_r < 0 else max_off_r\n",
    "\n",
    "    def forward(self, s, d, bc_wrap) -> None:\n",
    "        ns = len(s)\n",
    "        nd = len(d)\n",
    "        vals = self.vals.astype(s.dtype)\n",
    "        \n",
    "        for i in range(self.n_front):\n",
    "            d[i] += bc_wrap(s, i, ns, self.offset, vals)\n",
    "    \n",
    "        for i in range(self.n_front, nd - self.n_back):\n",
    "            d[i] += lift(s, i, self.offset, vals)\n",
    "    \n",
    "        for i in range(nd - self.n_back, nd):\n",
    "            d[i] += bc_wrap(s, i, ns, self.offset, vals)\n",
    "\n",
    "    def forward_adj(self, s, d, bc_wrap) -> None:\n",
    "        ns = len(s)\n",
    "        nd = len(d)\n",
    "        vals = self.vals_r.astype(s.dtype)\n",
    "        \n",
    "        for i in range(self.n_front_r):\n",
    "            s[i] += lift_zero(d, i, nd, self.offset_r, vals)\n",
    "    \n",
    "        for i in range(self.n_front_r, nd - self.n_back_r):\n",
    "            s[i] += lift(d, i, self.offset_r, vals)\n",
    "    \n",
    "        for i in range(nd - self.n_back_r, ns):\n",
    "            s[i] += lift_zero(d, i, nd, self.offset_r, vals)\n",
    "\n",
    "    def inverse(self, s, d, bc_wrap) -> None:\n",
    "        ns = len(s)\n",
    "        nd = len(d)\n",
    "        vals = self.vals.astype(s.dtype)\n",
    "        \n",
    "        for i in range(self.n_front):\n",
    "            d[i] -= bc_wrap(s, i, ns, self.offset, self.vals)\n",
    "    \n",
    "        for i in range(self.n_front, nd - self.n_back):\n",
    "            d[i] -= lift(s, i, self.offset, self.vals)\n",
    "    \n",
    "        for i in range(nd - self.n_back, nd):\n",
    "            d[i] -= bc_wrap(s, i, ns, self.offset, self.vals)\n",
    "\n",
    "    def inverse_adj(self, s, d, bc_wrap) -> None:\n",
    "        ns = len(s)\n",
    "        nd = len(d)\n",
    "        vals = self.vals_r.astype(s.dtype)\n",
    "\n",
    "        for i in range(self.offset, 0):\n",
    "            ii, v = bc_wrap(d, i, nd, ns, self.offset_r, vals)\n",
    "            s[ii] -= v\n",
    "        \n",
    "        for i in range(self.n_front_r):\n",
    "            s[i] -= lift_zero(d, i, nd, self.offset_r, vals)\n",
    "    \n",
    "        for i in range(self.n_front_r, nd - self.n_back_r):\n",
    "            s[i] -= lift(d, i, self.offset_r, vals)\n",
    "    \n",
    "        for i in range(nd - self.n_back_r, ns):\n",
    "            s[i] -= lift_zero(d, i, nd, ns, self.offset_r, vals)\n",
    "\n",
    "        for i in range(ns, ns + len(self.vals) + self.offset):\n",
    "            ii, v = bc_wrap(d, i, nd, ns, self.offset_r, vals)\n",
    "            s[ii] -= v\n"
   ]
  },
  {
   "cell_type": "code",
   "execution_count": 136,
   "id": "6b590edc-b1ec-412c-b99a-8fca2655e150",
   "metadata": {},
   "outputs": [],
   "source": [
    "def forward_transform(wvlt, x, mode=\"periodic\"):\n",
    "    if mode == 'periodic':\n",
    "        bc_wrap = lift_wrap\n",
    "    elif mode == 'zero':\n",
    "        bc_wrap = lift_zero\n",
    "    elif mode == 'constant':\n",
    "        bc_wrap = lift_const\n",
    "    elif mode == 'symmetric':\n",
    "        bc_wrap = lift_symm\n",
    "    elif mode == 'reflect':\n",
    "        bc_wrap = lift_refl\n",
    "    s = x[::2].copy()\n",
    "    d = x[1::2].copy()\n",
    "\n",
    "    for step in wvlt.steps:\n",
    "        step.forward(s, d, bc_wrap)\n",
    "\n",
    "    return s, d\n",
    "\n",
    "def inverse_transform(wvlt, s, d, mode=\"periodic\"):\n",
    "    if mode == 'periodic':\n",
    "        bc_wrap = lift_wrap\n",
    "    elif mode == 'zero':\n",
    "        bc_wrap = lift_zero\n",
    "    elif mode == 'constant':\n",
    "        bc_wrap = lift_const\n",
    "    elif mode == 'symmetric':\n",
    "        bc_wrap = lift_symm\n",
    "    elif mode == 'reflect':\n",
    "        bc_wrap = lift_refl\n",
    "    \n",
    "    s = s.copy()\n",
    "    d = d.copy()\n",
    "\n",
    "    for step in wvlt.steps[::-1]:\n",
    "        step.inverse(s, d, bc_wrap)\n",
    "\n",
    "    x = np.empty(len(s) + len(d), dtype=s.dtype)\n",
    "    x[::2] = s\n",
    "    x[1::2] = d\n",
    "    return x"
   ]
  },
  {
   "cell_type": "code",
   "execution_count": null,
   "id": "af40f957-cf03-470b-92e4-195353b48c63",
   "metadata": {},
   "outputs": [],
   "source": [
    "# class BiorSpline6_2:\n",
    "#     s1 = -0.166666666666666666666666666666666666666666666666666666666667\n",
    "#     s2 = -0.5625\n",
    "#     s3 = -1.33333333333333333333333333333333333333333333333333333333333\n",
    "#     s4 = 0.15625\n",
    "#     sc = 5.65685424949238019520675489683879231427868750150779229270672\n",
    "\n",
    "#     steps = (\n",
    "#         update_d(-2, [-2, -4, -6, -8, -10, -12, -14]),\n",
    "#         # update_s(-1, [s2, s2]),\n",
    "#         # update_d(0, [s3, s3]),\n",
    "#         # update_s(-1, [s4, s4]),\n",
    "#         # scale(sc),\n",
    "#     )"
   ]
  },
  {
   "cell_type": "code",
   "execution_count": 138,
   "id": "64ba9420-c61d-42a9-badb-ee3738453e95",
   "metadata": {},
   "outputs": [],
   "source": [
    "@numba.jit(nopython=True)\n",
    "def lift_zero_adj(x, i, nx, ny, offset, vals):\n",
    "    return x.dtype.type(0)\n",
    "\n",
    "@numba.jit(nopython=True)\n",
    "def lift_wrap_adj(x, i, nx, ny, offset, vals):\n",
    "    n_vals = len(vals)\n",
    "    io = i + offset\n",
    "    if (io < 0):\n",
    "        io = ny + io\n",
    "    elif(io >= ny):\n",
    "        io = io - ny\n",
    "    if io >= nx:\n",
    "        if len(vals) > 1:\n",
    "            return lift_wrap_adj(x, i, nx, ny, offset + 1, vals[1:])\n",
    "        else:\n",
    "            return x.dtype.type(0.0)\n",
    "    v = x[io] * vals[0]\n",
    "    if len(vals) > 1:\n",
    "        return v + lift_wrap_adj(x, i, nx, ny, offset + 1, vals[1:])\n",
    "    else:\n",
    "        return v\n",
    "\n",
    "@numba.jit(nopython=True)\n",
    "def lift_const_adj(x, i, nx, ny, offset, vals):\n",
    "    n_vals = len(vals)\n",
    "    io = i + offset\n",
    "    if i == ny - 1:\n",
    "        v = x.dtype.type(0)\n",
    "        j = 0\n",
    "        cum_sum = x.dtype.type(0)\n",
    "        for ii in range(io, nx):\n",
    "            v += (cum_sum + vals[j]) * x[ii]\n",
    "            cum_sum += vals[j]\n",
    "            j += 1\n",
    "        return v\n",
    "    if i == 0:\n",
    "        j = n_vals - 1\n",
    "        v = x.dtype.type(0)\n",
    "        cum_sum = x.dtype.type(0)\n",
    "        for ii in range(io + n_vals - 1, -1, -1):\n",
    "            v += (cum_sum + vals[j]) * x[ii]\n",
    "            cum_sum += vals[j]\n",
    "            j -= 1\n",
    "        return v\n",
    "    else:\n",
    "        if len(vals) == 0:\n",
    "            return x.dtype.type(0)\n",
    "\n",
    "        if io < 0 or io >= nx:\n",
    "            return lift_const_adj(x, i, nx, ny, offset+1, vals[1:])\n",
    "        else:\n",
    "            return vals[0] * x[io] + lift_const_adj(x, i, nx, ny, offset+1, vals[1:])\n",
    "\n",
    "@numba.jit(nopython=True)\n",
    "def lift_symm_adj(x, i, nx, ny, offset, vals):\n",
    "    \n",
    "    return x.dtype.type(0)\n",
    "    if i < nx - (n_vals + offset - 1):\n",
    "        pass\n",
    "    else:\n",
    "        pass\n",
    "        \n",
    "        \n",
    "    io = i + offset\n",
    "    if io >= nx:\n",
    "        return x.dtype.type(0)\n",
    "    elif io < 0:\n",
    "        io = -(io + 1)\n",
    "\n",
    "    v = x[io] * vals[0]\n",
    "    if len(vals) > 1:\n",
    "        return v + lift_symm_adj(x, i, nx, ny, offset + 1, vals[1:])\n",
    "    else:\n",
    "        return v"
   ]
  },
  {
   "cell_type": "code",
   "execution_count": 139,
   "id": "c364c8dc-aa94-4338-9816-79dc2a36a99f",
   "metadata": {},
   "outputs": [
    {
     "data": {
      "text/plain": [
       "(26, (22, 22), (18, 18, 18), (14, 14, 14, 14))"
      ]
     },
     "execution_count": 139,
     "metadata": {},
     "output_type": "execute_result"
    }
   ],
   "source": []
  },
  {
   "cell_type": "code",
   "execution_count": 140,
   "id": "f8c261ed-c65e-4e06-a265-483e1c0a0f0b",
   "metadata": {},
   "outputs": [],
   "source": [
    "# @ i = n + offset:"
   ]
  },
  {
   "cell_type": "code",
   "execution_count": 141,
   "id": "0658da36-4e00-432c-a294-1739071870c4",
   "metadata": {},
   "outputs": [],
   "source": [
    "def forward_adjoint(wvlt, s, d, mode=\"periodic\"):\n",
    "    if mode == 'periodic':\n",
    "        bc_wrap = lift_wrap_adj\n",
    "    elif mode == 'zero':\n",
    "        bc_wrap = lift_zero_adj\n",
    "    elif mode == 'constant':\n",
    "        bc_wrap = lift_const_adj\n",
    "    elif mode == 'symmetric':\n",
    "        bc_wrap = lift_symm_adj\n",
    "    elif mode == 'reflect':\n",
    "        bc_wrap = lift_refl\n",
    "    \n",
    "    s = s.copy()\n",
    "    d = d.copy()\n",
    "\n",
    "    for step in wvlt.steps[::-1]:\n",
    "        step.forward_adj(s, d, bc_wrap)\n",
    "\n",
    "    x = np.empty(len(s) + len(d), dtype=s.dtype)\n",
    "    x[::2] = s\n",
    "    x[1::2] = d\n",
    "    return x\n",
    "\n",
    "def inverse_adjoint(wvlt, x, mode=\"periodic\"):\n",
    "    if mode == 'periodic':\n",
    "        bc_wrap = lift_wrap_adj\n",
    "    elif mode == 'zero':\n",
    "        bc_wrap = lift_zero_adj\n",
    "    elif mode == 'constant':\n",
    "        bc_wrap = lift_const_adj\n",
    "    elif mode == 'symmetric':\n",
    "        bc_wrap = lift_symm_adj\n",
    "    elif mode == 'reflect':\n",
    "        bc_wrap = lift_refl\n",
    "    s = x[::2].copy()\n",
    "    d = x[1::2].copy()\n",
    "\n",
    "    for step in wvlt.steps:\n",
    "        step.inverse_adj(s, d, bc_wrap)\n",
    "\n",
    "    return s, d"
   ]
  },
  {
   "cell_type": "code",
   "execution_count": 142,
   "id": "270e96b3-f16b-4441-afad-b35c539b30c5",
   "metadata": {},
   "outputs": [],
   "source": [
    "mode='symmetric'\n",
    "for_mats = []\n",
    "inv_mats = []\n",
    "for_adj_mats = []\n",
    "inv_adj_mats = []\n",
    "n = 32\n",
    "\n",
    "for i in range(n):\n",
    "    e = np.zeros(n)\n",
    "    e[i] = 1\n",
    "    nd = len(e)//2\n",
    "    ns = len(e) - nd\n",
    "    es = e[:ns]\n",
    "    ed = e[ns:]\n",
    "    \n",
    "    s, d = forward_transform(BiorSpline6_2, e, mode=mode)\n",
    "    for_mats.append(np.r_[s, d])\n",
    "    inv_mats.append(inverse_transform(BiorSpline6_2, es, ed, mode=mode))\n",
    "\n",
    "    for_adj_mats.append(forward_adjoint(BiorSpline6_2, es, ed, mode=mode))\n",
    "    s, d = inverse_adjoint(BiorSpline6_2, e, mode=mode)\n",
    "    inv_adj_mats.append(np.r_[s, d])\n",
    "\n",
    "for_mats = np.stack(for_mats, axis=1)\n",
    "inv_mats = np.stack(inv_mats, axis=1)\n",
    "for_adj_mats = np.stack(for_adj_mats, axis=1)\n",
    "inv_adj_mats = np.stack(inv_adj_mats, axis=1)"
   ]
  },
  {
   "cell_type": "code",
   "execution_count": 143,
   "id": "24b5dee5-3fd3-462e-b273-6f20348ffc72",
   "metadata": {},
   "outputs": [
    {
     "data": {
      "text/plain": [
       "<matplotlib.colorbar.Colorbar at 0x295ce186fc0>"
      ]
     },
     "execution_count": 143,
     "metadata": {},
     "output_type": "execute_result"
    },
    {
     "data": {
      "image/png": "[encoded data removed]",
      "text/plain": [
       "<Figure size 640x480 with 2 Axes>"
      ]
     },
     "metadata": {},
     "output_type": "display_data"
    }
   ],
   "source": [
    "plt.imshow(inv_adj_mats)\n",
    "plt.colorbar()"
   ]
  },
  {
   "cell_type": "code",
   "execution_count": 144,
   "id": "9dd6dfc9-0645-48fc-81d5-8e2a29340817",
   "metadata": {},
   "outputs": [
    {
     "data": {
      "text/plain": [
       "<matplotlib.colorbar.Colorbar at 0x295ce0cd850>"
      ]
     },
     "execution_count": 144,
     "metadata": {},
     "output_type": "execute_result"
    },
    {
     "data": {
      "image/png": "[encoded data removed]",
      "text/plain": [
       "<Figure size 640x480 with 2 Axes>"
      ]
     },
     "metadata": {},
     "output_type": "display_data"
    }
   ],
   "source": [
    "plt.imshow(inv_mats.T)\n",
    "plt.colorbar()"
   ]
  },
  {
   "cell_type": "code",
   "execution_count": 115,
   "id": "10bf89e5-276e-4c8a-b8ca-84ea467c0e99",
   "metadata": {},
   "outputs": [
    {
     "data": {
      "text/plain": [
       "array([[ 0.,  4.,  0.,  2.,  0.,  0.,  0.,  0.,  0.,  0.,  0.,  0.],\n",
       "       [ 1.,  6.,  0.,  4.,  0.,  2.,  0.,  0.,  0.,  0.,  0.,  0.],\n",
       "       [ 0.,  8.,  1.,  6.,  0.,  4.,  0.,  2.,  0.,  0.,  0.,  0.],\n",
       "       [ 0., 10.,  0.,  8.,  1.,  6.,  0.,  4.,  0.,  2.,  0., 14.],\n",
       "       [ 0., 12.,  0., 10.,  0.,  8.,  1.,  6.,  0., 18.,  0., 14.],\n",
       "       [ 0., 14.,  0., 12.,  0., 10.,  0., 22.,  1., 18.,  0., 14.],\n",
       "       [ 0.,  0.,  0., 14.,  0., 26.,  0., 22.,  0., 18.,  1., 14.]])"
      ]
     },
     "execution_count": 115,
     "metadata": {},
     "output_type": "execute_result"
    }
   ],
   "source": [
    "inv_mats.T[9:16, -12:]"
   ]
  },
  {
   "cell_type": "code",
   "execution_count": 116,
   "id": "99369c66-6277-44cd-91d6-6b35bd73c129",
   "metadata": {},
   "outputs": [
    {
     "data": {
      "text/plain": [
       "array([[ 0.,  4.,  0.,  2.,  0.,  0.,  0.,  0.,  0.,  0.,  0.,  0.],\n",
       "       [ 1.,  6.,  0.,  4.,  0.,  2.,  0.,  0.,  0.,  0.,  0.,  0.],\n",
       "       [ 0.,  8.,  1.,  6.,  0.,  4.,  0.,  2.,  0.,  0.,  0.,  0.],\n",
       "       [ 0., 10.,  0.,  8.,  1.,  6.,  0.,  4.,  0.,  2.,  0.,  0.],\n",
       "       [ 0., 12.,  0., 10.,  0.,  8.,  1.,  6.,  0.,  4.,  0.,  2.],\n",
       "       [ 0.,  0.,  0.,  0.,  0.,  0.,  0.,  0.,  1.,  0.,  0.,  0.],\n",
       "       [ 0.,  0.,  0.,  0.,  0.,  0.,  0.,  0.,  0.,  0.,  1.,  0.]])"
      ]
     },
     "execution_count": 116,
     "metadata": {},
     "output_type": "execute_result"
    }
   ],
   "source": [
    "np.round(inv_adj_mats[9:16, -12:])"
   ]
  },
  {
   "cell_type": "code",
   "execution_count": 50,
   "id": "398fe6b3-a4a5-4d75-b0a6-21e38b291adc",
   "metadata": {},
   "outputs": [],
   "source": [
    "n = 32\n",
    "ps = np.linspace(-10, 10, n)\n",
    "\n",
    "x = np.sin(ps)"
   ]
  },
  {
   "cell_type": "code",
   "execution_count": 58,
   "id": "f035a745-c318-4f85-8ff1-1f1176bcbf64",
   "metadata": {},
   "outputs": [
    {
     "data": {
      "text/plain": [
       "True"
      ]
     },
     "execution_count": 58,
     "metadata": {},
     "output_type": "execute_result"
    }
   ],
   "source": [
    "mode = 'constant'\n",
    "sx, dx = forward_transform(BiorSpline6_2, x, mode=mode)\n",
    "x_inv = inverse_transform(BiorSpline6_2, sx, dx, mode=mode)\n",
    "np.allclose(x, x_inv)\n",
    "\n",
    "sx_a, dx_a = inverse_adjoint(BiorSpline6_2, x, mode=mode)\n",
    "x_inv_a = forward_adjoint(BiorSpline6_2, sx_a, dx_a, mode=mode)\n",
    "np.allclose(x, x_inv_a)"
   ]
  },
  {
   "cell_type": "code",
   "execution_count": 59,
   "id": "f1c486c3-9771-4425-b622-64f1a44a35ea",
   "metadata": {},
   "outputs": [
    {
     "data": {
      "text/plain": [
       "(np.float64(3.897361829569374), np.float64(3.8973618295693737))"
      ]
     },
     "execution_count": 59,
     "metadata": {},
     "output_type": "execute_result"
    }
   ],
   "source": [
    "np.sqrt(sx @ sx_a + dx @ dx_a), np.linalg.norm(x)"
   ]
  },
  {
   "cell_type": "code",
   "execution_count": 133,
   "id": "cdeb85e7-a969-4883-a79d-f73ebbb5f13e",
   "metadata": {},
   "outputs": [
    {
     "ename": "NameError",
     "evalue": "name 'sxr' is not defined",
     "output_type": "error",
     "traceback": [
      "\u001b[1;31m---------------------------------------------------------------------------\u001b[0m",
      "\u001b[1;31mNameError\u001b[0m                                 Traceback (most recent call last)",
      "Cell \u001b[1;32mIn[133], line 4\u001b[0m\n\u001b[0;32m      1\u001b[0m plt\u001b[38;5;241m.\u001b[39mplot(x, label\u001b[38;5;241m=\u001b[39m\u001b[38;5;124m'\u001b[39m\u001b[38;5;124mx\u001b[39m\u001b[38;5;124m'\u001b[39m)\n\u001b[0;32m      3\u001b[0m plt\u001b[38;5;241m.\u001b[39mplot(sx, label\u001b[38;5;241m=\u001b[39m\u001b[38;5;124m'\u001b[39m\u001b[38;5;124msx\u001b[39m\u001b[38;5;124m'\u001b[39m)\n\u001b[1;32m----> 4\u001b[0m plt\u001b[38;5;241m.\u001b[39mplot(\u001b[43msxr\u001b[49m, label\u001b[38;5;241m=\u001b[39m\u001b[38;5;124m'\u001b[39m\u001b[38;5;124msxr\u001b[39m\u001b[38;5;124m'\u001b[39m)\n\u001b[0;32m      6\u001b[0m plt\u001b[38;5;241m.\u001b[39mplot(dx, label\u001b[38;5;241m=\u001b[39m\u001b[38;5;124m'\u001b[39m\u001b[38;5;124mdx\u001b[39m\u001b[38;5;124m'\u001b[39m)\n\u001b[0;32m      7\u001b[0m plt\u001b[38;5;241m.\u001b[39mplot(dxr, label\u001b[38;5;241m=\u001b[39m\u001b[38;5;124m'\u001b[39m\u001b[38;5;124mdxr\u001b[39m\u001b[38;5;124m'\u001b[39m)\n",
      "\u001b[1;31mNameError\u001b[0m: name 'sxr' is not defined"
     ]
    },
    {
     "data": {
      "image/png": "[encoded data removed]",
      "text/plain": [
       "<Figure size 640x480 with 1 Axes>"
      ]
     },
     "metadata": {},
     "output_type": "display_data"
    }
   ],
   "source": [
    "plt.plot(x, label='x')\n",
    "\n",
    "plt.plot(sx, label='sx')\n",
    "plt.plot(sxr, label='sxr')\n",
    "\n",
    "plt.plot(dx, label='dx')\n",
    "plt.plot(dxr, label='dxr')\n",
    "plt.legend()"
   ]
  },
  {
   "cell_type": "code",
   "execution_count": 134,
   "id": "b4311848-5ea9-4ecc-bb52-d33607c5abb9",
   "metadata": {},
   "outputs": [
    {
     "ename": "NameError",
     "evalue": "name 'y' is not defined",
     "output_type": "error",
     "traceback": [
      "\u001b[1;31m---------------------------------------------------------------------------\u001b[0m",
      "\u001b[1;31mNameError\u001b[0m                                 Traceback (most recent call last)",
      "Cell \u001b[1;32mIn[134], line 2\u001b[0m\n\u001b[0;32m      1\u001b[0m mode \u001b[38;5;241m=\u001b[39m \u001b[38;5;124m'\u001b[39m\u001b[38;5;124mperiodic\u001b[39m\u001b[38;5;124m'\u001b[39m\n\u001b[1;32m----> 2\u001b[0m sy, dy \u001b[38;5;241m=\u001b[39m forward_transform(db7_r, \u001b[43my\u001b[49m, mode\u001b[38;5;241m=\u001b[39mmode)\n\u001b[0;32m      3\u001b[0m y_inv \u001b[38;5;241m=\u001b[39m inverse_transform(db7_r, sy, dy, mode\u001b[38;5;241m=\u001b[39mmode)\n\u001b[0;32m      4\u001b[0m np\u001b[38;5;241m.\u001b[39mallclose(y, y_inv)\n",
      "\u001b[1;31mNameError\u001b[0m: name 'y' is not defined"
     ]
    }
   ],
   "source": [
    "mode = 'periodic'\n",
    "sy, dy = forward_transform(db7_r, y, mode=mode)\n",
    "y_inv = inverse_transform(db7_r, sy, dy, mode=mode)\n",
    "np.allclose(y, y_inv)"
   ]
  },
  {
   "cell_type": "code",
   "execution_count": 135,
   "id": "e23dedc7-9020-469f-95f6-5809a093fb9b",
   "metadata": {},
   "outputs": [
    {
     "ename": "NameError",
     "evalue": "name 'sy' is not defined",
     "output_type": "error",
     "traceback": [
      "\u001b[1;31m---------------------------------------------------------------------------\u001b[0m",
      "\u001b[1;31mNameError\u001b[0m                                 Traceback (most recent call last)",
      "Cell \u001b[1;32mIn[135], line 1\u001b[0m\n\u001b[1;32m----> 1\u001b[0m np\u001b[38;5;241m.\u001b[39mlinalg\u001b[38;5;241m.\u001b[39mnorm(np\u001b[38;5;241m.\u001b[39mr_[\u001b[43msy\u001b[49m, dy]), np\u001b[38;5;241m.\u001b[39mlinalg\u001b[38;5;241m.\u001b[39mnorm(y)\n",
      "\u001b[1;31mNameError\u001b[0m: name 'sy' is not defined"
     ]
    }
   ],
   "source": [
    "np.linalg.norm(np.r_[sy, dy]), np.linalg.norm(y)"
   ]
  },
  {
   "cell_type": "code",
   "execution_count": 164,
   "id": "50be6a28-87a7-4152-bbbb-5c179c7c38c3",
   "metadata": {},
   "outputs": [
    {
     "data": {
      "text/plain": [
       "(np.float64(-410.70579673868895), np.float64(-412.4131016924517))"
      ]
     },
     "execution_count": 164,
     "metadata": {},
     "output_type": "execute_result"
    }
   ],
   "source": [
    "sx @ sy + dx @ dy, x @ y"
   ]
  },
  {
   "cell_type": "code",
   "execution_count": 68,
   "id": "bc61f8da-cd1d-4c01-ae10-ae1b05f4b556",
   "metadata": {},
   "outputs": [
    {
     "data": {
      "text/plain": [
       "[<matplotlib.lines.Line2D at 0x20fb699efc0>]"
      ]
     },
     "execution_count": 68,
     "metadata": {},
     "output_type": "execute_result"
    },
    {
     "data": {
      "image/png": "[encoded data removed]",
      "text/plain": [
       "<Figure size 640x480 with 1 Axes>"
      ]
     },
     "metadata": {},
     "output_type": "display_data"
    }
   ],
   "source": [
    "plt.plot(sx)\n",
    "plt.plot(dx)"
   ]
  },
  {
   "cell_type": "code",
   "execution_count": 69,
   "id": "d503d7c0-9ad6-496f-a029-9623b57dcbbf",
   "metadata": {},
   "outputs": [
    {
     "data": {
      "text/plain": [
       "(array([2.54402111, 2.36459873, 2.17034683, 1.96916632, 1.76923992,\n",
       "        1.57869936, 1.40529459, 1.25607859, 1.13712052, 1.05325882,\n",
       "        1.00790444, 1.00290211, 1.03845529, 1.1131179 , 1.22385315,\n",
       "        1.36615705, 1.53424159, 1.72127018, 1.9196357 , 2.12126992,\n",
       "        2.31797166, 2.50174037, 2.66510151, 2.80141062, 2.90512352,\n",
       "        2.97202182, 2.99938456, 2.98609877, 2.93270486, 2.84137452,\n",
       "        2.7158225 , 2.56115544, 2.38366419, 2.19056796, 1.98972066,\n",
       "        1.78929145, 1.59743251, 1.42194741, 1.26997377, 1.14769288,\n",
       "        1.06007835, 1.01069376, 1.00154777, 1.03301238, 1.1038078 ,\n",
       "        1.21105454, 1.35039049, 1.51614836, 1.7015862 , 1.89916158,\n",
       "        2.10083842, 2.2984138 , 2.48385164, 2.64960951, 2.78894546,\n",
       "        2.8961922 , 2.96698762, 2.99845223, 2.98930624, 2.93992165,\n",
       "        2.85230712, 2.73002623, 2.57805259, 2.40256749, 2.21070855,\n",
       "        2.01027934, 1.80943204, 1.61633581, 1.43884456, 1.2841775 ,\n",
       "        1.15862548, 1.06729514, 1.01390123, 1.00061544, 1.02797818,\n",
       "        1.09487648, 1.19858938, 1.33489849, 1.49825963, 1.68202834,\n",
       "        1.87873008, 2.0803643 , 2.27872982, 2.46575841, 2.63384295,\n",
       "        2.77614685, 2.8868821 , 2.96154471, 2.99709789, 2.99209556,\n",
       "        2.94674118, 2.86287948, 2.74392141, 2.59470541, 2.42130064,\n",
       "        2.23076008, 2.03083368, 1.82965317, 1.63540127, 1.45597889]),\n",
       " array([2.54402111, 2.36459873, 2.17034683, 1.96916632, 1.76923992,\n",
       "        1.57869936, 1.40529459, 1.25607859, 1.13712052, 1.05325882,\n",
       "        1.00790444, 1.00290211, 1.03845529, 1.1131179 , 1.22385315,\n",
       "        1.36615705, 1.53424159, 1.72127018, 1.9196357 , 2.12126992,\n",
       "        2.31797166, 2.50174037, 2.66510151, 2.80141062, 2.90512352,\n",
       "        2.97202182, 2.99938456, 2.98609877, 2.93270486, 2.84137452,\n",
       "        2.7158225 , 2.56115544, 2.38366419, 2.19056796, 1.98972066,\n",
       "        1.78929145, 1.59743251, 1.42194741, 1.26997377, 1.14769288,\n",
       "        1.06007835, 1.01069376, 1.00154777, 1.03301238, 1.1038078 ,\n",
       "        1.21105454, 1.35039049, 1.51614836, 1.7015862 , 1.89916158,\n",
       "        2.10083842, 2.2984138 , 2.48385164, 2.64960951, 2.78894546,\n",
       "        2.8961922 , 2.96698762, 2.99845223, 2.98930624, 2.93992165,\n",
       "        2.85230712, 2.73002623, 2.57805259, 2.40256749, 2.21070855,\n",
       "        2.01027934, 1.80943204, 1.61633581, 1.43884456, 1.2841775 ,\n",
       "        1.15862548, 1.06729514, 1.01390123, 1.00061544, 1.02797818,\n",
       "        1.09487648, 1.19858938, 1.33489849, 1.49825963, 1.68202834,\n",
       "        1.87873008, 2.0803643 , 2.27872982, 2.46575841, 2.63384295,\n",
       "        2.77614685, 2.8868821 , 2.96154471, 2.99709789, 2.99209556,\n",
       "        2.94674118, 2.86287948, 2.74392141, 2.59470541, 2.42130064,\n",
       "        2.23076008, 2.03083368, 1.82965317, 1.63540127, 1.45597889]))"
      ]
     },
     "execution_count": 69,
     "metadata": {},
     "output_type": "execute_result"
    }
   ],
   "source": [
    "x, x_inv"
   ]
  },
  {
   "cell_type": "code",
   "execution_count": null,
   "id": "d5645890-aa87-4ad9-8b27-fa15dc25066e",
   "metadata": {},
   "outputs": [],
   "source": []
  }
 ],
 "metadata": {
  "kernelspec": {
   "display_name": "Python 3 (ipykernel)",
   "language": "python",
   "name": "python3"
  },
  "language_info": {
   "codemirror_mode": {
    "name": "ipython",
    "version": 3
   },
   "file_extension": ".py",
   "mimetype": "text/x-python",
   "name": "python",
   "nbconvert_exporter": "python",
   "pygments_lexer": "ipython3",
   "version": "3.12.6"
  }
 },
 "nbformat": 4,
 "nbformat_minor": 5
}
