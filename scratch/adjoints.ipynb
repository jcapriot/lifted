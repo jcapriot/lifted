{
 "cells": [
  {
   "cell_type": "code",
   "execution_count": 1,
   "id": "8f4bc1d9-e3a6-478d-b1de-486827ccfd30",
   "metadata": {},
   "outputs": [],
   "source": [
    "import numpy as np\n",
    "import matplotlib.pyplot as plt"
   ]
  },
  {
   "cell_type": "code",
   "execution_count": 3,
   "id": "a56dd691-d8a4-4b36-a220-d6b93823f48f",
   "metadata": {},
   "outputs": [],
   "source": [
    "def lift(x, i, offset, vals):\n",
    "    v = x[i + offset] * vals[0]\n",
    "    if len(vals) > 1:\n",
    "        return v + lift(x, i, offset + 1, vals[1:])\n",
    "    else:\n",
    "        return v\n",
    "\n",
    "def lift_zero(x, i, n, offset, vals):\n",
    "    io = i + offset\n",
    "    if io >= n:\n",
    "        return x.dtype.type(0.0)\n",
    "    elif io < 0:\n",
    "        if len(vals) > 1:\n",
    "            return lift_zero(x, i, n, offset + 1, vals[1:])\n",
    "        else:\n",
    "            return x.dtype.type(0.0)\n",
    "\n",
    "    v = x[io] * vals[0]\n",
    "    if len(vals) > 1:\n",
    "        return v + lift_zero(x, i, n, offset + 1, vals[1:])\n",
    "    else:\n",
    "        return v\n",
    "\n",
    "def lift_wrap(x, i, n, offset, vals):\n",
    "    io = (i + offset) % n\n",
    "\n",
    "    v = x[io] * vals[0]\n",
    "    if len(vals) > 1:\n",
    "        return v + lift_wrap(x, i, n, offset + 1, vals[1:])\n",
    "    else:\n",
    "        return v\n",
    "\n",
    "def lift_const(x, i, n, offset, vals):\n",
    "    io = i + offset\n",
    "    if io > n - 1:\n",
    "        io = n - 1\n",
    "    elif io < 0:\n",
    "        io = 0\n",
    "    \n",
    "    v = x[io] * vals[0]\n",
    "    if len(vals) > 1:\n",
    "        return v + lift_const(x, i, n, offset + 1, vals[1:])\n",
    "    else:\n",
    "        return v\n",
    "\n",
    "def lift_symm(x, i, n, offset, vals):\n",
    "    io = i + offset\n",
    "    if io >= n:\n",
    "        io = n - 1 - (io - n)\n",
    "    elif io < 0:\n",
    "        io = -(io + 1)\n",
    "\n",
    "    v = x[io] * vals[0]\n",
    "    if len(vals) > 1:\n",
    "        return v + lift_symm(x, i, n, offset + 1, vals[1:])\n",
    "    else:\n",
    "        return v\n",
    "\n",
    "\n",
    "def lift_refl(x, i, n, offset, vals):\n",
    "    io = i + offset\n",
    "    if io >= n:\n",
    "        io = n - 2 - (io - n)\n",
    "    elif io < 0:\n",
    "        io = -io\n",
    "\n",
    "    v = x[io] * vals[0]\n",
    "    if len(vals) > 1:\n",
    "        return v + lift_refl(x, i, n, offset + 1, vals[1:])\n",
    "    else:\n",
    "        return v"
   ]
  },
  {
   "cell_type": "code",
   "execution_count": null,
   "id": "4bff2800-17b6-4a7a-b7e0-582fe093207c",
   "metadata": {},
   "outputs": [],
   "source": [
    "def lift_adj(x, i, offset, vals):\n",
    "    v = x[i + offset] * vals[0]\n",
    "    if len(vals) > 1:\n",
    "        return v + lift(x, i, offset + 1, vals[1:])\n",
    "    else:\n",
    "        return v"
   ]
  },
  {
   "cell_type": "code",
   "execution_count": 106,
   "id": "f8f69594-481f-4ca9-98bc-a8d8d8c95ac3",
   "metadata": {},
   "outputs": [],
   "source": [
    "class update_d:\n",
    "    \n",
    "    def __init__(self, offset, vals):\n",
    "        self.vals = np.asarray(vals, dtype=np.float64).copy()\n",
    "        self.offset = offset\n",
    "        self.n_front = 0 if offset > 0 else -offset\n",
    "\n",
    "        n_vals = len(vals)\n",
    "        max_off = n_vals - 1 + offset\n",
    "        self.n_back = 0 if max_off < 0 else max_off\n",
    "\n",
    "        self.vals_r = np.asarray(vals[::-1], dtype=np.float64).copy()\n",
    "        self.offset_r = -max_off\n",
    "        self.n_front_r = 0 if self.offset_r > 0 else -self.offset_r\n",
    "        \n",
    "        max_off_r = n_vals - 1 + self.offset_r\n",
    "        self.n_back_r = 0 if max_off_r < 0 else max_off_r\n",
    "\n",
    "    def inverse(self, s, d, bc_wrap) -> None:\n",
    "        ns = len(s)\n",
    "        nd = len(d)\n",
    "        vals = self.vals.astype(s.dtype)\n",
    "\n",
    "        # s [j] would go from self.offset to nd + self.offset + n_vals\n",
    "\n",
    "\n",
    "        # touches j indices from offset to min(n_front, nd) + offset + n_vals\n",
    "        #for i in range(min(self.n_front, nd)):\n",
    "        #    d[i] -= bc_wrap(s, i, ns, self.offset, self.vals)\n",
    "\n",
    "        # touches j indices from n_front + offset to nd - n_back + offset + n_vals \n",
    "        for i in range(self.n_front, nd - self.n_back):\n",
    "            d[i] -= lift(s, i, self.offset, self.vals)\n",
    "\n",
    "        # touches j indices from max(nd - n_back, 0) + offset to nd + offset + n_vals\n",
    "        #for i in range(max(nd - self.n_back, 0), nd):\n",
    "        #    d[i] -= bc_wrap(s, i, ns, self.offset, self.vals)\n",
    "\n",
    "    def inverse_adj(self, s, d, bc_wrap, do_zero, verbose=False) -> None:\n",
    "        ns = len(s)\n",
    "        nd = len(d)\n",
    "        vals = self.vals.astype(s.dtype)\n",
    "\n",
    "\n",
    "        # touches j indices from offset to min(n_front, nd) + offset + n_vals\n",
    "        for i in range(min(self.n_front, nd)):\n",
    "            s[i] -= bc_wrap(d, i, ns, self.offset, self.vals)\n",
    "\n",
    "        # touches j indices from n_front + offset to nd - n_back + offset + n_vals \n",
    "        for i in range(self.n_front, nd - self.n_back):\n",
    "            s[i] -= lift(d, i, self.offset, self.vals)\n",
    "\n",
    "        # touches j indices from max(nd - n_back, 0) + offset to nd + offset + n_vals\n",
    "        for i in range(max(nd - self.n_back, 0), nd):\n",
    "            s[i] -= bc_wrap(d, i, ns, self.offset, self.vals)\n",
    "\n",
    "        # if verbose:\n",
    "        #     print(n_vals, self.offset, self.offset_r)\n",
    "        # for i in range(0, ns - n_vals):\n",
    "        #     s[i] -= lift_adj(d, i, self.offset, vals)\n"
   ]
  },
  {
   "cell_type": "code",
   "execution_count": 107,
   "id": "f2b9e63c-8038-404c-b518-c0e80928ac5e",
   "metadata": {},
   "outputs": [],
   "source": [
    "def inverse_transform(wvlt, s, d, mode=\"periodic\"):\n",
    "    if mode == 'periodic':\n",
    "        bc_wrap = lift_wrap\n",
    "    elif mode == 'zero':\n",
    "        bc_wrap = lift_zero\n",
    "    elif mode == 'constant':\n",
    "        bc_wrap = lift_const\n",
    "    elif mode == 'symmetric':\n",
    "        bc_wrap = lift_symm\n",
    "    elif mode == 'reflect':\n",
    "        bc_wrap = lift_refl\n",
    "    \n",
    "    s = s.copy()\n",
    "    d = d.copy()\n",
    "\n",
    "    for step in wvlt.steps[::-1]:\n",
    "        step.inverse(s, d, bc_wrap)\n",
    "\n",
    "    x = np.empty(len(s) + len(d), dtype=s.dtype)\n",
    "    x[::2] = s\n",
    "    x[1::2] = d\n",
    "    return x"
   ]
  },
  {
   "cell_type": "code",
   "execution_count": 108,
   "id": "309c6912-d033-4c3f-b808-736e474affaf",
   "metadata": {},
   "outputs": [],
   "source": [
    "def lift_zero_adj(x, i, nx, ny, offset, vals, verbose=0):\n",
    "    if i < 0:\n",
    "        return 0, x.dtype.type(0)\n",
    "    if i >= ny:\n",
    "        return 0, x.dtype.type(0)\n",
    "    else:\n",
    "        return i, lift_zero(x, i, nx, offset, vals)\n",
    "    if i <= ny:\n",
    "        return i, \n",
    "    return 0, x.dtype.type(0)\n",
    "\n",
    "\n",
    "def lift_refl_adj(x, i, nx, ny, offset, vals):\n",
    "    return 0, x.dtype.type(0)"
   ]
  },
  {
   "cell_type": "code",
   "execution_count": 109,
   "id": "c4972159-8346-4c36-8cd8-87f2f3f7e6f3",
   "metadata": {},
   "outputs": [],
   "source": [
    "def inverse_adjoint(wvlt, x, mode=\"periodic\", verbose=0):\n",
    "    do_zero = False\n",
    "    if mode == 'periodic':\n",
    "        bc_wrap = lift_wrap_adj\n",
    "        do_zero = False\n",
    "    elif mode == 'zero':\n",
    "        bc_wrap = lift_zero_adj\n",
    "        do_zero = False\n",
    "    elif mode == 'constant':\n",
    "        bc_wrap = lift_const_adj\n",
    "    elif mode == 'symmetric':\n",
    "        bc_wrap = lift_symm_adj\n",
    "    elif mode == 'reflect':\n",
    "        bc_wrap = lift_refl\n",
    "    s = x[::2].copy()\n",
    "    d = x[1::2].copy()\n",
    "\n",
    "    for step in wvlt.steps:\n",
    "        step.inverse_adj(s, d, bc_wrap, do_zero=do_zero, verbose=verbose)\n",
    "\n",
    "    return s, d"
   ]
  },
  {
   "cell_type": "code",
   "execution_count": 189,
   "id": "17657ee2-1f4a-4bd0-a7da-dadfecdcf3f0",
   "metadata": {},
   "outputs": [],
   "source": [
    "def get_mats(wvlt, mode, n):\n",
    "    inv_mats = []\n",
    "    inv_mats_zero = []\n",
    "    inv_adj_mats = []\n",
    "\n",
    "    verbose = 1\n",
    "    for i in range(n):\n",
    "        e = np.zeros(n)\n",
    "        e[i] = 1\n",
    "        nd = len(e)//2\n",
    "        ns = len(e) - nd\n",
    "        es = e[:ns]\n",
    "        ed = e[ns:]\n",
    "        \n",
    "        # s, d = forward_transform(TestDWavelet, e, mode=mode)\n",
    "        # for_mats.append(np.r_[s, d])\n",
    "        inv_mats.append(inverse_transform(wvlt, es, ed, mode=mode))\n",
    "        inv_mats_zero.append(inverse_transform(wvlt, es, ed, mode=\"zero\"))\n",
    "\n",
    "        # es = e[::2]\n",
    "        # ed = e[1::2]\n",
    "        # inv_mats.append(inverse_transform(wvlt, es, ed, mode=mode))\n",
    "    \n",
    "        #for_adj_mats.append(forward_adjoint(TestDWavelet, es, ed, mode=mode))\n",
    "        s, d = inverse_adjoint(wvlt, e, mode=mode, verbose=verbose)\n",
    "        inv_adj_mats.append(np.r_[s, d])\n",
    "        \n",
    "        verbose = 0\n",
    "\n",
    "    inv_mats = np.stack(inv_mats, axis=1)\n",
    "    inv_mats_zero = np.stack(inv_mats_zero, axis=1)\n",
    "    inv_adj_mats = np.stack(inv_adj_mats, axis=1)\n",
    "    return inv_mats, inv_mats_zero, inv_adj_mats"
   ]
  },
  {
   "cell_type": "code",
   "execution_count": 190,
   "id": "5fb10e6a-69bf-4258-8eb1-2f34445ba2d9",
   "metadata": {},
   "outputs": [],
   "source": [
    "def lift_zero_adj(x, i, nx, ny, offset, vals, verbose=False):\n",
    "    if i < 0:\n",
    "        return 0, x.dtype.type(0)\n",
    "    if i >= ny:\n",
    "        return 0, x.dtype.type(0)\n",
    "    else:\n",
    "        return i, lift_zero(x, i, nx, offset, vals)\n",
    "    if i <= ny:\n",
    "        return i, \n",
    "    return 0, x.dtype.type(0)"
   ]
  },
  {
   "cell_type": "code",
   "execution_count": 191,
   "id": "85cc5d69-46f0-4878-a554-c1d7838a6994",
   "metadata": {},
   "outputs": [],
   "source": [
    "def lift_const_adj(x, i, nx, ny, offset, vals, verbose=False):\n",
    "    n_vals = len(vals)\n",
    "    if i < 0:\n",
    "        i_start = 0\n",
    "        i_end = min(i + offset + n_vals, nx)\n",
    "        vj = -(i + offset) % n_vals\n",
    "        i = 0\n",
    "    elif i >= nx:\n",
    "        i_start = max(i + offset, 0) \n",
    "        i_end = nx\n",
    "        vj = max(-(i + offset), 0) % n_vals\n",
    "        i = ny - 1\n",
    "    else:\n",
    "        return i, lift_zero(x, i, nx, offset, vals)\n",
    "\n",
    "    v = x.dtype.type(0)\n",
    "    for ii in range(i_start, i_end):\n",
    "        v += vals[vj] * x[ii]\n",
    "        vj = (vj + 1) % n_vals\n",
    "\n",
    "    return i, v"
   ]
  },
  {
   "cell_type": "code",
   "execution_count": 192,
   "id": "68f5d61b-468c-46ad-87c6-c27526ac0e42",
   "metadata": {},
   "outputs": [],
   "source": [
    "def lift_wrap_adj(x, i, nx, ny, offset, vals, verbose=False):\n",
    "    n_vals = len(vals)\n",
    "    v = x.dtype.type(0)\n",
    "    i_start = i + offset\n",
    "    i_end = i_start + n_vals\n",
    "\n",
    "    if i_start < 0:\n",
    "        i_start = i_start % ny\n",
    "        i_end = min(i_start + n_vals, nx)\n",
    "        if i_start + n_vals == nx:\n",
    "            return 0, 0\n",
    "        j = 0\n",
    "        for io in range(i_start, i_end):\n",
    "            v += vals[j] * x[io]\n",
    "            j += 1\n",
    "        \n",
    "        return i % ny, v\n",
    "    elif i_start >= 0:\n",
    "        j = -(i_start % ny - ny)\n",
    "        i_end = (n_vals - j)\n",
    "        i_start = 0\n",
    "\n",
    "        for io in range(i_start, i_end):\n",
    "            v += vals[j] * x[io]\n",
    "            j += 1\n",
    "        \n",
    "        return i % ny, v\n",
    "    \n",
    "    return 0, v"
   ]
  },
  {
   "cell_type": "code",
   "execution_count": 193,
   "id": "7da0259c-bed3-4aa5-aa7f-24dde95202fb",
   "metadata": {},
   "outputs": [],
   "source": [
    "def lift_adj(x, i, offset_r, offset, vals):\n",
    "    v = 0\n",
    "    if len(vals) == 0:\n",
    "        return v\n",
    "    io = i + offset\n",
    "    if io < len(x):\n",
    "        v = 0\n",
    "    else:\n",
    "        v = vals[0] * x[io]\n",
    "    return v + lift_adj(x, i, offset + 1, vals[1:])"
   ]
  },
  {
   "cell_type": "code",
   "execution_count": 194,
   "id": "011ff70b-a52f-4c52-bebf-af2687c239e0",
   "metadata": {},
   "outputs": [],
   "source": [
    "class TestDWavelet:\n",
    "    steps = (\n",
    "        update_d(-4, [-2, -4, -6, -8, -10, -12, -14]),\n",
    "    )"
   ]
  },
  {
   "cell_type": "code",
   "execution_count": 195,
   "id": "698065d7-c60e-4c52-9d6d-8bbb77a4f186",
   "metadata": {},
   "outputs": [
    {
     "name": "stdout",
     "output_type": "stream",
     "text": [
      "7 -4 -2\n"
     ]
    },
    {
     "ename": "TypeError",
     "evalue": "lift_adj() missing 1 required positional argument: 'vals'",
     "output_type": "error",
     "traceback": [
      "\u001b[1;31m---------------------------------------------------------------------------\u001b[0m",
      "\u001b[1;31mTypeError\u001b[0m                                 Traceback (most recent call last)",
      "Cell \u001b[1;32mIn[195], line 1\u001b[0m\n\u001b[1;32m----> 1\u001b[0m inv_mats, inv_mats_zero, inv_adj_mats \u001b[38;5;241m=\u001b[39m \u001b[43mget_mats\u001b[49m\u001b[43m(\u001b[49m\u001b[43mTestDWavelet\u001b[49m\u001b[43m,\u001b[49m\u001b[43m \u001b[49m\u001b[38;5;124;43m'\u001b[39;49m\u001b[38;5;124;43mzero\u001b[39;49m\u001b[38;5;124;43m'\u001b[39;49m\u001b[43m,\u001b[49m\u001b[43m \u001b[49m\u001b[43mn\u001b[49m\u001b[43m \u001b[49m\u001b[38;5;241;43m=\u001b[39;49m\u001b[43m \u001b[49m\u001b[38;5;241;43m32\u001b[39;49m\u001b[43m)\u001b[49m\n",
      "Cell \u001b[1;32mIn[189], line 25\u001b[0m, in \u001b[0;36mget_mats\u001b[1;34m(wvlt, mode, n)\u001b[0m\n\u001b[0;32m     18\u001b[0m inv_mats_zero\u001b[38;5;241m.\u001b[39mappend(inverse_transform(wvlt, es, ed, mode\u001b[38;5;241m=\u001b[39m\u001b[38;5;124m\"\u001b[39m\u001b[38;5;124mzero\u001b[39m\u001b[38;5;124m\"\u001b[39m))\n\u001b[0;32m     20\u001b[0m \u001b[38;5;66;03m# es = e[::2]\u001b[39;00m\n\u001b[0;32m     21\u001b[0m \u001b[38;5;66;03m# ed = e[1::2]\u001b[39;00m\n\u001b[0;32m     22\u001b[0m \u001b[38;5;66;03m# inv_mats.append(inverse_transform(wvlt, es, ed, mode=mode))\u001b[39;00m\n\u001b[0;32m     23\u001b[0m \n\u001b[0;32m     24\u001b[0m \u001b[38;5;66;03m#for_adj_mats.append(forward_adjoint(TestDWavelet, es, ed, mode=mode))\u001b[39;00m\n\u001b[1;32m---> 25\u001b[0m s, d \u001b[38;5;241m=\u001b[39m \u001b[43minverse_adjoint\u001b[49m\u001b[43m(\u001b[49m\u001b[43mwvlt\u001b[49m\u001b[43m,\u001b[49m\u001b[43m \u001b[49m\u001b[43me\u001b[49m\u001b[43m,\u001b[49m\u001b[43m \u001b[49m\u001b[43mmode\u001b[49m\u001b[38;5;241;43m=\u001b[39;49m\u001b[43mmode\u001b[49m\u001b[43m,\u001b[49m\u001b[43m \u001b[49m\u001b[43mverbose\u001b[49m\u001b[38;5;241;43m=\u001b[39;49m\u001b[43mverbose\u001b[49m\u001b[43m)\u001b[49m\n\u001b[0;32m     26\u001b[0m inv_adj_mats\u001b[38;5;241m.\u001b[39mappend(np\u001b[38;5;241m.\u001b[39mr_[s, d])\n\u001b[0;32m     28\u001b[0m verbose \u001b[38;5;241m=\u001b[39m \u001b[38;5;241m0\u001b[39m\n",
      "Cell \u001b[1;32mIn[109], line 19\u001b[0m, in \u001b[0;36minverse_adjoint\u001b[1;34m(wvlt, x, mode, verbose)\u001b[0m\n\u001b[0;32m     16\u001b[0m d \u001b[38;5;241m=\u001b[39m x[\u001b[38;5;241m1\u001b[39m::\u001b[38;5;241m2\u001b[39m]\u001b[38;5;241m.\u001b[39mcopy()\n\u001b[0;32m     18\u001b[0m \u001b[38;5;28;01mfor\u001b[39;00m step \u001b[38;5;129;01min\u001b[39;00m wvlt\u001b[38;5;241m.\u001b[39msteps:\n\u001b[1;32m---> 19\u001b[0m     \u001b[43mstep\u001b[49m\u001b[38;5;241;43m.\u001b[39;49m\u001b[43minverse_adj\u001b[49m\u001b[43m(\u001b[49m\u001b[43ms\u001b[49m\u001b[43m,\u001b[49m\u001b[43m \u001b[49m\u001b[43md\u001b[49m\u001b[43m,\u001b[49m\u001b[43m \u001b[49m\u001b[43mbc_wrap\u001b[49m\u001b[43m,\u001b[49m\u001b[43m \u001b[49m\u001b[43mdo_zero\u001b[49m\u001b[38;5;241;43m=\u001b[39;49m\u001b[43mdo_zero\u001b[49m\u001b[43m,\u001b[49m\u001b[43m \u001b[49m\u001b[43mverbose\u001b[49m\u001b[38;5;241;43m=\u001b[39;49m\u001b[43mverbose\u001b[49m\u001b[43m)\u001b[49m\n\u001b[0;32m     21\u001b[0m \u001b[38;5;28;01mreturn\u001b[39;00m s, d\n",
      "Cell \u001b[1;32mIn[106], line 48\u001b[0m, in \u001b[0;36mupdate_d.inverse_adj\u001b[1;34m(self, s, d, bc_wrap, do_zero, verbose)\u001b[0m\n\u001b[0;32m     46\u001b[0m     \u001b[38;5;28mprint\u001b[39m(n_vals, \u001b[38;5;28mself\u001b[39m\u001b[38;5;241m.\u001b[39moffset, \u001b[38;5;28mself\u001b[39m\u001b[38;5;241m.\u001b[39moffset_r)\n\u001b[0;32m     47\u001b[0m \u001b[38;5;28;01mfor\u001b[39;00m i \u001b[38;5;129;01min\u001b[39;00m \u001b[38;5;28mrange\u001b[39m(\u001b[38;5;241m0\u001b[39m, ns \u001b[38;5;241m-\u001b[39m n_vals):\n\u001b[1;32m---> 48\u001b[0m     s[i] \u001b[38;5;241m-\u001b[39m\u001b[38;5;241m=\u001b[39m \u001b[43mlift_adj\u001b[49m\u001b[43m(\u001b[49m\u001b[43md\u001b[49m\u001b[43m,\u001b[49m\u001b[43m \u001b[49m\u001b[43mi\u001b[49m\u001b[43m,\u001b[49m\u001b[43m \u001b[49m\u001b[38;5;28;43mself\u001b[39;49m\u001b[38;5;241;43m.\u001b[39;49m\u001b[43moffset\u001b[49m\u001b[43m,\u001b[49m\u001b[43m \u001b[49m\u001b[43mvals\u001b[49m\u001b[43m)\u001b[49m\n",
      "\u001b[1;31mTypeError\u001b[0m: lift_adj() missing 1 required positional argument: 'vals'"
     ]
    }
   ],
   "source": [
    "inv_mats, inv_mats_zero, inv_adj_mats = get_mats(TestDWavelet, 'zero', n = 32)"
   ]
  },
  {
   "cell_type": "code",
   "execution_count": 196,
   "id": "d6c5f95e-ebe3-4e38-9488-af2a8a4339b6",
   "metadata": {},
   "outputs": [
    {
     "data": {
      "text/plain": [
       "<matplotlib.colorbar.Colorbar at 0x15bb055b6e0>"
      ]
     },
     "execution_count": 196,
     "metadata": {},
     "output_type": "execute_result"
    },
    {
     "data": {
      "image/png": "[encoded data removed]",
      "text/plain": [
       "<Figure size 640x480 with 2 Axes>"
      ]
     },
     "metadata": {},
     "output_type": "display_data"
    }
   ],
   "source": [
    "plt.imshow(inv_mats)\n",
    "plt.colorbar()"
   ]
  },
  {
   "cell_type": "code",
   "execution_count": 172,
   "id": "77ac5faf-afff-49ae-bdd2-4f626c5e69ec",
   "metadata": {},
   "outputs": [
    {
     "ename": "TypeError",
     "evalue": "Invalid shape () for image data",
     "output_type": "error",
     "traceback": [
      "\u001b[1;31m---------------------------------------------------------------------------\u001b[0m",
      "\u001b[1;31mTypeError\u001b[0m                                 Traceback (most recent call last)",
      "Cell \u001b[1;32mIn[172], line 1\u001b[0m\n\u001b[1;32m----> 1\u001b[0m \u001b[43mplt\u001b[49m\u001b[38;5;241;43m.\u001b[39;49m\u001b[43mimshow\u001b[49m\u001b[43m(\u001b[49m\u001b[43minv_adj_mats\u001b[49m\u001b[43m)\u001b[49m\n\u001b[0;32m      2\u001b[0m plt\u001b[38;5;241m.\u001b[39mcolorbar()\n",
      "File \u001b[1;32mI:\\anaconda3\\envs\\simulation\\Lib\\site-packages\\matplotlib\\pyplot.py:3562\u001b[0m, in \u001b[0;36mimshow\u001b[1;34m(X, cmap, norm, aspect, interpolation, alpha, vmin, vmax, origin, extent, interpolation_stage, filternorm, filterrad, resample, url, data, **kwargs)\u001b[0m\n\u001b[0;32m   3541\u001b[0m \u001b[38;5;129m@_copy_docstring_and_deprecators\u001b[39m(Axes\u001b[38;5;241m.\u001b[39mimshow)\n\u001b[0;32m   3542\u001b[0m \u001b[38;5;28;01mdef\u001b[39;00m \u001b[38;5;21mimshow\u001b[39m(\n\u001b[0;32m   3543\u001b[0m     X: ArrayLike \u001b[38;5;241m|\u001b[39m PIL\u001b[38;5;241m.\u001b[39mImage\u001b[38;5;241m.\u001b[39mImage,\n\u001b[1;32m   (...)\u001b[0m\n\u001b[0;32m   3560\u001b[0m     \u001b[38;5;241m*\u001b[39m\u001b[38;5;241m*\u001b[39mkwargs,\n\u001b[0;32m   3561\u001b[0m ) \u001b[38;5;241m-\u001b[39m\u001b[38;5;241m>\u001b[39m AxesImage:\n\u001b[1;32m-> 3562\u001b[0m     __ret \u001b[38;5;241m=\u001b[39m \u001b[43mgca\u001b[49m\u001b[43m(\u001b[49m\u001b[43m)\u001b[49m\u001b[38;5;241;43m.\u001b[39;49m\u001b[43mimshow\u001b[49m\u001b[43m(\u001b[49m\n\u001b[0;32m   3563\u001b[0m \u001b[43m        \u001b[49m\u001b[43mX\u001b[49m\u001b[43m,\u001b[49m\n\u001b[0;32m   3564\u001b[0m \u001b[43m        \u001b[49m\u001b[43mcmap\u001b[49m\u001b[38;5;241;43m=\u001b[39;49m\u001b[43mcmap\u001b[49m\u001b[43m,\u001b[49m\n\u001b[0;32m   3565\u001b[0m \u001b[43m        \u001b[49m\u001b[43mnorm\u001b[49m\u001b[38;5;241;43m=\u001b[39;49m\u001b[43mnorm\u001b[49m\u001b[43m,\u001b[49m\n\u001b[0;32m   3566\u001b[0m \u001b[43m        \u001b[49m\u001b[43maspect\u001b[49m\u001b[38;5;241;43m=\u001b[39;49m\u001b[43maspect\u001b[49m\u001b[43m,\u001b[49m\n\u001b[0;32m   3567\u001b[0m \u001b[43m        \u001b[49m\u001b[43minterpolation\u001b[49m\u001b[38;5;241;43m=\u001b[39;49m\u001b[43minterpolation\u001b[49m\u001b[43m,\u001b[49m\n\u001b[0;32m   3568\u001b[0m \u001b[43m        \u001b[49m\u001b[43malpha\u001b[49m\u001b[38;5;241;43m=\u001b[39;49m\u001b[43malpha\u001b[49m\u001b[43m,\u001b[49m\n\u001b[0;32m   3569\u001b[0m \u001b[43m        \u001b[49m\u001b[43mvmin\u001b[49m\u001b[38;5;241;43m=\u001b[39;49m\u001b[43mvmin\u001b[49m\u001b[43m,\u001b[49m\n\u001b[0;32m   3570\u001b[0m \u001b[43m        \u001b[49m\u001b[43mvmax\u001b[49m\u001b[38;5;241;43m=\u001b[39;49m\u001b[43mvmax\u001b[49m\u001b[43m,\u001b[49m\n\u001b[0;32m   3571\u001b[0m \u001b[43m        \u001b[49m\u001b[43morigin\u001b[49m\u001b[38;5;241;43m=\u001b[39;49m\u001b[43morigin\u001b[49m\u001b[43m,\u001b[49m\n\u001b[0;32m   3572\u001b[0m \u001b[43m        \u001b[49m\u001b[43mextent\u001b[49m\u001b[38;5;241;43m=\u001b[39;49m\u001b[43mextent\u001b[49m\u001b[43m,\u001b[49m\n\u001b[0;32m   3573\u001b[0m \u001b[43m        \u001b[49m\u001b[43minterpolation_stage\u001b[49m\u001b[38;5;241;43m=\u001b[39;49m\u001b[43minterpolation_stage\u001b[49m\u001b[43m,\u001b[49m\n\u001b[0;32m   3574\u001b[0m \u001b[43m        \u001b[49m\u001b[43mfilternorm\u001b[49m\u001b[38;5;241;43m=\u001b[39;49m\u001b[43mfilternorm\u001b[49m\u001b[43m,\u001b[49m\n\u001b[0;32m   3575\u001b[0m \u001b[43m        \u001b[49m\u001b[43mfilterrad\u001b[49m\u001b[38;5;241;43m=\u001b[39;49m\u001b[43mfilterrad\u001b[49m\u001b[43m,\u001b[49m\n\u001b[0;32m   3576\u001b[0m \u001b[43m        \u001b[49m\u001b[43mresample\u001b[49m\u001b[38;5;241;43m=\u001b[39;49m\u001b[43mresample\u001b[49m\u001b[43m,\u001b[49m\n\u001b[0;32m   3577\u001b[0m \u001b[43m        \u001b[49m\u001b[43murl\u001b[49m\u001b[38;5;241;43m=\u001b[39;49m\u001b[43murl\u001b[49m\u001b[43m,\u001b[49m\n\u001b[0;32m   3578\u001b[0m \u001b[43m        \u001b[49m\u001b[38;5;241;43m*\u001b[39;49m\u001b[38;5;241;43m*\u001b[39;49m\u001b[43m(\u001b[49m\u001b[43m{\u001b[49m\u001b[38;5;124;43m\"\u001b[39;49m\u001b[38;5;124;43mdata\u001b[39;49m\u001b[38;5;124;43m\"\u001b[39;49m\u001b[43m:\u001b[49m\u001b[43m \u001b[49m\u001b[43mdata\u001b[49m\u001b[43m}\u001b[49m\u001b[43m \u001b[49m\u001b[38;5;28;43;01mif\u001b[39;49;00m\u001b[43m \u001b[49m\u001b[43mdata\u001b[49m\u001b[43m \u001b[49m\u001b[38;5;129;43;01mis\u001b[39;49;00m\u001b[43m \u001b[49m\u001b[38;5;129;43;01mnot\u001b[39;49;00m\u001b[43m \u001b[49m\u001b[38;5;28;43;01mNone\u001b[39;49;00m\u001b[43m \u001b[49m\u001b[38;5;28;43;01melse\u001b[39;49;00m\u001b[43m \u001b[49m\u001b[43m{\u001b[49m\u001b[43m}\u001b[49m\u001b[43m)\u001b[49m\u001b[43m,\u001b[49m\n\u001b[0;32m   3579\u001b[0m \u001b[43m        \u001b[49m\u001b[38;5;241;43m*\u001b[39;49m\u001b[38;5;241;43m*\u001b[39;49m\u001b[43mkwargs\u001b[49m\u001b[43m,\u001b[49m\n\u001b[0;32m   3580\u001b[0m \u001b[43m    \u001b[49m\u001b[43m)\u001b[49m\n\u001b[0;32m   3581\u001b[0m     sci(__ret)\n\u001b[0;32m   3582\u001b[0m     \u001b[38;5;28;01mreturn\u001b[39;00m __ret\n",
      "File \u001b[1;32mI:\\anaconda3\\envs\\simulation\\Lib\\site-packages\\matplotlib\\__init__.py:1473\u001b[0m, in \u001b[0;36m_preprocess_data.<locals>.inner\u001b[1;34m(ax, data, *args, **kwargs)\u001b[0m\n\u001b[0;32m   1470\u001b[0m \u001b[38;5;129m@functools\u001b[39m\u001b[38;5;241m.\u001b[39mwraps(func)\n\u001b[0;32m   1471\u001b[0m \u001b[38;5;28;01mdef\u001b[39;00m \u001b[38;5;21minner\u001b[39m(ax, \u001b[38;5;241m*\u001b[39margs, data\u001b[38;5;241m=\u001b[39m\u001b[38;5;28;01mNone\u001b[39;00m, \u001b[38;5;241m*\u001b[39m\u001b[38;5;241m*\u001b[39mkwargs):\n\u001b[0;32m   1472\u001b[0m     \u001b[38;5;28;01mif\u001b[39;00m data \u001b[38;5;129;01mis\u001b[39;00m \u001b[38;5;28;01mNone\u001b[39;00m:\n\u001b[1;32m-> 1473\u001b[0m         \u001b[38;5;28;01mreturn\u001b[39;00m \u001b[43mfunc\u001b[49m\u001b[43m(\u001b[49m\n\u001b[0;32m   1474\u001b[0m \u001b[43m            \u001b[49m\u001b[43max\u001b[49m\u001b[43m,\u001b[49m\n\u001b[0;32m   1475\u001b[0m \u001b[43m            \u001b[49m\u001b[38;5;241;43m*\u001b[39;49m\u001b[38;5;28;43mmap\u001b[39;49m\u001b[43m(\u001b[49m\u001b[43msanitize_sequence\u001b[49m\u001b[43m,\u001b[49m\u001b[43m \u001b[49m\u001b[43margs\u001b[49m\u001b[43m)\u001b[49m\u001b[43m,\u001b[49m\n\u001b[0;32m   1476\u001b[0m \u001b[43m            \u001b[49m\u001b[38;5;241;43m*\u001b[39;49m\u001b[38;5;241;43m*\u001b[39;49m\u001b[43m{\u001b[49m\u001b[43mk\u001b[49m\u001b[43m:\u001b[49m\u001b[43m \u001b[49m\u001b[43msanitize_sequence\u001b[49m\u001b[43m(\u001b[49m\u001b[43mv\u001b[49m\u001b[43m)\u001b[49m\u001b[43m \u001b[49m\u001b[38;5;28;43;01mfor\u001b[39;49;00m\u001b[43m \u001b[49m\u001b[43mk\u001b[49m\u001b[43m,\u001b[49m\u001b[43m \u001b[49m\u001b[43mv\u001b[49m\u001b[43m \u001b[49m\u001b[38;5;129;43;01min\u001b[39;49;00m\u001b[43m \u001b[49m\u001b[43mkwargs\u001b[49m\u001b[38;5;241;43m.\u001b[39;49m\u001b[43mitems\u001b[49m\u001b[43m(\u001b[49m\u001b[43m)\u001b[49m\u001b[43m}\u001b[49m\u001b[43m)\u001b[49m\n\u001b[0;32m   1478\u001b[0m     bound \u001b[38;5;241m=\u001b[39m new_sig\u001b[38;5;241m.\u001b[39mbind(ax, \u001b[38;5;241m*\u001b[39margs, \u001b[38;5;241m*\u001b[39m\u001b[38;5;241m*\u001b[39mkwargs)\n\u001b[0;32m   1479\u001b[0m     auto_label \u001b[38;5;241m=\u001b[39m (bound\u001b[38;5;241m.\u001b[39marguments\u001b[38;5;241m.\u001b[39mget(label_namer)\n\u001b[0;32m   1480\u001b[0m                   \u001b[38;5;129;01mor\u001b[39;00m bound\u001b[38;5;241m.\u001b[39mkwargs\u001b[38;5;241m.\u001b[39mget(label_namer))\n",
      "File \u001b[1;32mI:\\anaconda3\\envs\\simulation\\Lib\\site-packages\\matplotlib\\axes\\_axes.py:5895\u001b[0m, in \u001b[0;36mAxes.imshow\u001b[1;34m(self, X, cmap, norm, aspect, interpolation, alpha, vmin, vmax, origin, extent, interpolation_stage, filternorm, filterrad, resample, url, **kwargs)\u001b[0m\n\u001b[0;32m   5892\u001b[0m \u001b[38;5;28;01mif\u001b[39;00m aspect \u001b[38;5;129;01mis\u001b[39;00m \u001b[38;5;129;01mnot\u001b[39;00m \u001b[38;5;28;01mNone\u001b[39;00m:\n\u001b[0;32m   5893\u001b[0m     \u001b[38;5;28mself\u001b[39m\u001b[38;5;241m.\u001b[39mset_aspect(aspect)\n\u001b[1;32m-> 5895\u001b[0m \u001b[43mim\u001b[49m\u001b[38;5;241;43m.\u001b[39;49m\u001b[43mset_data\u001b[49m\u001b[43m(\u001b[49m\u001b[43mX\u001b[49m\u001b[43m)\u001b[49m\n\u001b[0;32m   5896\u001b[0m im\u001b[38;5;241m.\u001b[39mset_alpha(alpha)\n\u001b[0;32m   5897\u001b[0m \u001b[38;5;28;01mif\u001b[39;00m im\u001b[38;5;241m.\u001b[39mget_clip_path() \u001b[38;5;129;01mis\u001b[39;00m \u001b[38;5;28;01mNone\u001b[39;00m:\n\u001b[0;32m   5898\u001b[0m     \u001b[38;5;66;03m# image does not already have clipping set, clip to Axes patch\u001b[39;00m\n",
      "File \u001b[1;32mI:\\anaconda3\\envs\\simulation\\Lib\\site-packages\\matplotlib\\image.py:729\u001b[0m, in \u001b[0;36m_ImageBase.set_data\u001b[1;34m(self, A)\u001b[0m\n\u001b[0;32m    727\u001b[0m \u001b[38;5;28;01mif\u001b[39;00m \u001b[38;5;28misinstance\u001b[39m(A, PIL\u001b[38;5;241m.\u001b[39mImage\u001b[38;5;241m.\u001b[39mImage):\n\u001b[0;32m    728\u001b[0m     A \u001b[38;5;241m=\u001b[39m pil_to_array(A)  \u001b[38;5;66;03m# Needed e.g. to apply png palette.\u001b[39;00m\n\u001b[1;32m--> 729\u001b[0m \u001b[38;5;28mself\u001b[39m\u001b[38;5;241m.\u001b[39m_A \u001b[38;5;241m=\u001b[39m \u001b[38;5;28;43mself\u001b[39;49m\u001b[38;5;241;43m.\u001b[39;49m\u001b[43m_normalize_image_array\u001b[49m\u001b[43m(\u001b[49m\u001b[43mA\u001b[49m\u001b[43m)\u001b[49m\n\u001b[0;32m    730\u001b[0m \u001b[38;5;28mself\u001b[39m\u001b[38;5;241m.\u001b[39m_imcache \u001b[38;5;241m=\u001b[39m \u001b[38;5;28;01mNone\u001b[39;00m\n\u001b[0;32m    731\u001b[0m \u001b[38;5;28mself\u001b[39m\u001b[38;5;241m.\u001b[39mstale \u001b[38;5;241m=\u001b[39m \u001b[38;5;28;01mTrue\u001b[39;00m\n",
      "File \u001b[1;32mI:\\anaconda3\\envs\\simulation\\Lib\\site-packages\\matplotlib\\image.py:697\u001b[0m, in \u001b[0;36m_ImageBase._normalize_image_array\u001b[1;34m(A)\u001b[0m\n\u001b[0;32m    695\u001b[0m     A \u001b[38;5;241m=\u001b[39m A\u001b[38;5;241m.\u001b[39msqueeze(\u001b[38;5;241m-\u001b[39m\u001b[38;5;241m1\u001b[39m)  \u001b[38;5;66;03m# If just (M, N, 1), assume scalar and apply colormap.\u001b[39;00m\n\u001b[0;32m    696\u001b[0m \u001b[38;5;28;01mif\u001b[39;00m \u001b[38;5;129;01mnot\u001b[39;00m (A\u001b[38;5;241m.\u001b[39mndim \u001b[38;5;241m==\u001b[39m \u001b[38;5;241m2\u001b[39m \u001b[38;5;129;01mor\u001b[39;00m A\u001b[38;5;241m.\u001b[39mndim \u001b[38;5;241m==\u001b[39m \u001b[38;5;241m3\u001b[39m \u001b[38;5;129;01mand\u001b[39;00m A\u001b[38;5;241m.\u001b[39mshape[\u001b[38;5;241m-\u001b[39m\u001b[38;5;241m1\u001b[39m] \u001b[38;5;129;01min\u001b[39;00m [\u001b[38;5;241m3\u001b[39m, \u001b[38;5;241m4\u001b[39m]):\n\u001b[1;32m--> 697\u001b[0m     \u001b[38;5;28;01mraise\u001b[39;00m \u001b[38;5;167;01mTypeError\u001b[39;00m(\u001b[38;5;124mf\u001b[39m\u001b[38;5;124m\"\u001b[39m\u001b[38;5;124mInvalid shape \u001b[39m\u001b[38;5;132;01m{\u001b[39;00mA\u001b[38;5;241m.\u001b[39mshape\u001b[38;5;132;01m}\u001b[39;00m\u001b[38;5;124m for image data\u001b[39m\u001b[38;5;124m\"\u001b[39m)\n\u001b[0;32m    698\u001b[0m \u001b[38;5;28;01mif\u001b[39;00m A\u001b[38;5;241m.\u001b[39mndim \u001b[38;5;241m==\u001b[39m \u001b[38;5;241m3\u001b[39m:\n\u001b[0;32m    699\u001b[0m     \u001b[38;5;66;03m# If the input data has values outside the valid range (after\u001b[39;00m\n\u001b[0;32m    700\u001b[0m     \u001b[38;5;66;03m# normalisation), we issue a warning and then clip X to the bounds\u001b[39;00m\n\u001b[0;32m    701\u001b[0m     \u001b[38;5;66;03m# - otherwise casting wraps extreme values, hiding outliers and\u001b[39;00m\n\u001b[0;32m    702\u001b[0m     \u001b[38;5;66;03m# making reliable interpretation impossible.\u001b[39;00m\n\u001b[0;32m    703\u001b[0m     high \u001b[38;5;241m=\u001b[39m \u001b[38;5;241m255\u001b[39m \u001b[38;5;28;01mif\u001b[39;00m np\u001b[38;5;241m.\u001b[39missubdtype(A\u001b[38;5;241m.\u001b[39mdtype, np\u001b[38;5;241m.\u001b[39minteger) \u001b[38;5;28;01melse\u001b[39;00m \u001b[38;5;241m1\u001b[39m\n",
      "\u001b[1;31mTypeError\u001b[0m: Invalid shape () for image data"
     ]
    },
    {
     "data": {
      "image/png": "[encoded data removed]",
      "text/plain": [
       "<Figure size 640x480 with 1 Axes>"
      ]
     },
     "metadata": {},
     "output_type": "display_data"
    }
   ],
   "source": [
    "plt.imshow(inv_adj_mats)\n",
    "plt.colorbar()"
   ]
  },
  {
   "cell_type": "code",
   "execution_count": 145,
   "id": "d6519113-d5e7-4b27-9902-da008b8a6f70",
   "metadata": {},
   "outputs": [
    {
     "data": {
      "text/plain": [
       "<matplotlib.colorbar.Colorbar at 0x15bad6bb5f0>"
      ]
     },
     "execution_count": 145,
     "metadata": {},
     "output_type": "execute_result"
    },
    {
     "data": {
      "image/png": "[encoded data removed]",
      "text/plain": [
       "<Figure size 640x480 with 2 Axes>"
      ]
     },
     "metadata": {},
     "output_type": "display_data"
    }
   ],
   "source": [
    "im = inv_adj_mats - inv_mats_zero.T\n",
    "im[im == 0] = np.nan\n",
    "plt.imshow(im)\n",
    "plt.colorbar()"
   ]
  },
  {
   "cell_type": "code",
   "execution_count": 3364,
   "id": "777bea97-9e3d-43d0-b789-3f8a1ed4e500",
   "metadata": {},
   "outputs": [
    {
     "data": {
      "text/plain": [
       "<matplotlib.colorbar.Colorbar at 0x16ea28de7b0>"
      ]
     },
     "execution_count": 3364,
     "metadata": {},
     "output_type": "execute_result"
    },
    {
     "data": {
      "image/png": "[encoded data removed]",
      "text/plain": [
       "<Figure size 640x480 with 2 Axes>"
      ]
     },
     "metadata": {},
     "output_type": "display_data"
    }
   ],
   "source": [
    "im = (inv_mats - inv_mats_zero).T\n",
    "im[im == 0] = np.nan\n",
    "plt.imshow(im)\n",
    "plt.colorbar()"
   ]
  },
  {
   "cell_type": "code",
   "execution_count": 3365,
   "id": "c29151e3-4736-4eac-b739-359ac1b1adee",
   "metadata": {},
   "outputs": [
    {
     "data": {
      "text/plain": [
       "<matplotlib.colorbar.Colorbar at 0x16ea2c03aa0>"
      ]
     },
     "execution_count": 3365,
     "metadata": {},
     "output_type": "execute_result"
    },
    {
     "data": {
      "image/png": "[encoded data removed]",
      "text/plain": [
       "<Figure size 640x480 with 2 Axes>"
      ]
     },
     "metadata": {},
     "output_type": "display_data"
    }
   ],
   "source": [
    "im = inv_mats.T - inv_adj_mats\n",
    "im[im == 0] = np.nan\n",
    "plt.imshow(im)\n",
    "plt.colorbar()"
   ]
  },
  {
   "cell_type": "code",
   "execution_count": 2867,
   "id": "bec9a597-82a1-4db9-9643-a1c41b6b24b0",
   "metadata": {},
   "outputs": [
    {
     "data": {
      "text/plain": [
       "array([[ 0.,  0.,  0.,  0.,  0.,  0.,  0.,  0.,  0.,  0.,  0.,  0.,  0.,\n",
       "         0.,  0.],\n",
       "       [56., 56., 56., 56., 56., 56., 56., 56., 56., 56., 56., 56., 56.,\n",
       "        56., 56.]])"
      ]
     },
     "execution_count": 2867,
     "metadata": {},
     "output_type": "execute_result"
    }
   ],
   "source": [
    "#(inv_mats - inv_mats_zero).T[0:7, :12]\n",
    "(inv_mats - inv_mats_zero).T[[0, 15], 1::2]\n",
    "#inv_mats.T[9:16, -12:]"
   ]
  },
  {
   "cell_type": "code",
   "execution_count": 2848,
   "id": "7c93a695-4daf-4713-b96e-048dcda0b89a",
   "metadata": {},
   "outputs": [
    {
     "data": {
      "text/plain": [
       "array([[ 0.,  0.,  0.,  0.,  0.,  0.,  0.,  0.,  0.,  0.,  0.,  0.,  0.,\n",
       "         0.,  0.,  0.],\n",
       "       [56., 56., 56., 56., 56., 56., 56., 56., 56., 56., 56., 56., 56.,\n",
       "        56., 56., 56.]])"
      ]
     },
     "execution_count": 2848,
     "metadata": {},
     "output_type": "execute_result"
    }
   ],
   "source": [
    "# np.round((inv_adj_mats- inv_mats_zero.T)[0:7, :12])\n",
    "np.round((inv_adj_mats - inv_mats_zero.T)[[0, 15], 1::2])\n",
    "# np.round(inv_adj_mats[9:16, -12:])"
   ]
  },
  {
   "cell_type": "code",
   "execution_count": 2849,
   "id": "564c7600-e4ef-4e8e-b8c7-d172ff90a4b1",
   "metadata": {},
   "outputs": [
    {
     "data": {
      "text/plain": [
       "array([[0., 0., 0., 0., 0., 0., 0., 0., 0., 0., 0., 0., 0., 0., 0., 0.],\n",
       "       [0., 0., 0., 0., 0., 0., 0., 0., 0., 0., 0., 0., 0., 0., 0., 0.]])"
      ]
     },
     "execution_count": 2849,
     "metadata": {},
     "output_type": "execute_result"
    }
   ],
   "source": [
    "np.round((inv_mats.T - inv_adj_mats)[[0, 15], 1::2])"
   ]
  },
  {
   "cell_type": "code",
   "execution_count": null,
   "id": "7fc9373d-0e61-46f3-865e-ffd0a3c7be23",
   "metadata": {},
   "outputs": [],
   "source": [
    "(inv_mats - inv_mats_zero).T[[0, 15], 1::2]"
   ]
  },
  {
   "cell_type": "code",
   "execution_count": 2256,
   "id": "c17a6711-d115-4caa-b7e3-726e42b308e3",
   "metadata": {},
   "outputs": [
    {
     "data": {
      "text/plain": [
       "array([[0., 0., 0., 0., 0., 0., 0., 0., 0., 0., 0., 0.],\n",
       "       [0., 0., 0., 0., 0., 0., 0., 0., 0., 0., 0., 0.],\n",
       "       [0., 0., 0., 0., 0., 0., 0., 0., 0., 0., 0., 0.],\n",
       "       [0., 0., 0., 0., 0., 0., 0., 0., 0., 0., 0., 0.],\n",
       "       [0., 0., 0., 0., 0., 0., 0., 0., 0., 0., 0., 0.],\n",
       "       [0., 0., 0., 0., 0., 0., 0., 0., 0., 0., 0., 0.],\n",
       "       [0., 0., 0., 0., 0., 0., 0., 0., 0., 0., 0., 0.]])"
      ]
     },
     "execution_count": 2256,
     "metadata": {},
     "output_type": "execute_result"
    }
   ],
   "source": [
    "(inv_mats - inv_mats_zero).T[9:16, -12:]"
   ]
  },
  {
   "cell_type": "code",
   "execution_count": 1909,
   "id": "5b8ec49d-9682-4496-a19c-0985b9bd98c2",
   "metadata": {},
   "outputs": [
    {
     "data": {
      "text/plain": [
       "array([[0., 0., 0., 0., 0., 0., 0., 0., 0., 0., 0., 0.],\n",
       "       [0., 0., 0., 0., 0., 0., 0., 0., 0., 0., 0., 0.],\n",
       "       [0., 0., 0., 0., 0., 0., 0., 0., 0., 0., 0., 0.],\n",
       "       [0., 0., 0., 0., 0., 0., 0., 0., 0., 0., 0., 0.],\n",
       "       [0., 0., 0., 0., 0., 0., 0., 0., 0., 0., 0., 0.],\n",
       "       [0., 0., 0., 0., 0., 0., 0., 0., 0., 0., 0., 0.],\n",
       "       [0., 0., 0., 0., 0., 0., 0., 0., 0., 0., 0., 0.]])"
      ]
     },
     "execution_count": 1909,
     "metadata": {},
     "output_type": "execute_result"
    }
   ],
   "source": [
    "np.round((inv_adj_mats - inv_mats_zero.T)[9:16, -12:])"
   ]
  },
  {
   "cell_type": "code",
   "execution_count": null,
   "id": "ba8b27f2-1529-47bc-9f86-513b9ca50b12",
   "metadata": {},
   "outputs": [],
   "source": []
  }
 ],
 "metadata": {
  "kernelspec": {
   "display_name": "Python 3 (ipykernel)",
   "language": "python",
   "name": "python3"
  },
  "language_info": {
   "codemirror_mode": {
    "name": "ipython",
    "version": 3
   },
   "file_extension": ".py",
   "mimetype": "text/x-python",
   "name": "python",
   "nbconvert_exporter": "python",
   "pygments_lexer": "ipython3",
   "version": "3.12.6"
  }
 },
 "nbformat": 4,
 "nbformat_minor": 5
}
